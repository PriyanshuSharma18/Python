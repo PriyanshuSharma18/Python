print("Introduction to Problem Solving and Programmng using Python")
{
  "cells": [
    {
      "cell_type": "markdown",
      "metadata": {
        "id": "view-in-github",
        "colab_type": "text"
      },
      "source": [
        "<a href=\"https://colab.research.google.com/github/PriyanshuSharma18/Python/blob/main/Untitled0.ipynb\" target=\"_parent\"><img src=\"https://colab.research.google.com/assets/colab-badge.svg\" alt=\"Open In Colab\"/></a>"
      ]
    },
    {
      "cell_type": "code",
      "execution_count": null,
      "metadata": {
        "colab": {
          "base_uri": "https://localhost:8080/"
        },
        "id": "N8F-XSmIgdav",
        "outputId": "fd9ee350-d1ff-42b8-c934-3560ddd319b1"
      },
      "outputs": [
        {
          "name": "stdout",
          "output_type": "stream",
          "text": [
            "9\n"
          ]
        }
      ],
      "source": [
        "a=5\n",
        "b=4\n",
        "sum=a+b\n",
        "print(sum)\n"
      ]
    },
    {
      "cell_type": "code",
      "execution_count": null,
      "metadata": {
        "colab": {
          "base_uri": "https://localhost:8080/"
        },
        "id": "yr7kJNf0g9G4",
        "outputId": "3fdb43bf-43e3-48bb-e354-3f893c547405"
      },
      "outputs": [
        {
          "name": "stdout",
          "output_type": "stream",
          "text": [
            "1200\n",
            "0.75\n"
          ]
        }
      ],
      "source": [
        "a=30\n",
        "b=40\n",
        "divide=a/b\n",
        "multiply=a*b\n",
        "print(multiply)\n",
        "print (divide)"
      ]
    },
    {
      "cell_type": "code",
      "source": [
        "b=2500\n",
        "print(b,type(b))\n",
        "#a=.099\n",
        "#print(a,(type a)) \n",
        "#c=1,02.46\n",
        "#print(c,(type c))\n",
        "#p='Jennifer Smiths's Friend'\n",
        "#print(p,(type p))\n",
        "m=\"let's go\"\n",
        "print(m,type(m))\n",
        "p='Hello Rdj'\n",
        "print(p,type(p))\n",
        "s=\"Hello Rdj\"\n",
        "print(s,type(s))\n",
        "print('Hello \\n Jennifer')\n",
        "print(\"VIT Bhopal \\n Bhopal Indore Expressway \\n Kothri Kalan,46114 \\n Madhya Pradesh\")\n",
        "print(9>5)\n",
        "bin(5)\n",
        "print(bin(12))\n",
        "print(oct(12))\n",
        "print(hex(12))\n",
        "X=0xAAAAAAAAAAAAAAAAAAAAAAAAAA9999999999999999999987654321\n",
        "print(bin(X))\n",
        "print(oct(X))\n",
        "print(hex(X))\n",
        "print(1.2e00*2.4e100)\n",
        "print(1.2e00/2.4e100)\n",
        "print(1.2e200*2.4e200)\n",
        "print(1.2e-200/2.4e200)\n",
        "print('a'*15)\n",
        "print(2+1j*3)"
      ],
      "metadata": {
        "colab": {
          "base_uri": "https://localhost:8080/"
        },
        "id": "cqJwvZJ5g57K",
        "outputId": "dab4d1dc-0684-4260-bac1-e68a731397f7"
      },
      "execution_count": null,
      "outputs": [
        {
          "output_type": "stream",
          "name": "stdout",
          "text": [
            "2500 <class 'int'>\n",
            "let's go <class 'str'>\n",
            "Hello Rdj <class 'str'>\n",
            "Hello Rdj <class 'str'>\n",
            "Hello \n",
            " Jennifer\n",
            "VIT Bhopal \n",
            " Bhopal Indore Expressway \n",
            " Kothri Kalan,46114 \n",
            " Madhya Pradesh\n",
            "True\n",
            "0b1100\n",
            "0o14\n",
            "0xc\n",
            "0b101010101010101010101010101010101010101010101010101010101010101010101010101010101010101010101010101010101001100110011001100110011001100110011001100110011001100110011001100110011001100110000111011001010100001100100001\n",
            "0o525252525252525252525252525252525251463146314631463146314631460731241441\n",
            "0xaaaaaaaaaaaaaaaaaaaaaaaaaa9999999999999999999987654321\n",
            "2.88e+100\n",
            "4.9999999999999995e-101\n",
            "inf\n",
            "0.0\n",
            "aaaaaaaaaaaaaaa\n",
            "(2+3j)\n"
          ]
        }
      ]
    },
    {
      "cell_type": "code",
      "source": [
        "for i in range(101):\n",
        "  if((i%3)==0):\n",
        "    if((i%5)==0):\n",
        "      print(\"GodlyBadly\")\n",
        "    else:\n",
        "        print(\"Godly\")\n",
        "  elif((i%5)==0):\n",
        "      print(\"Badly\")\n",
        "  else:\n",
        "     print(i)"
      ],
      "metadata": {
        "colab": {
          "base_uri": "https://localhost:8080/"
        },
        "id": "Jv6x1xmx2OdW",
        "outputId": "b4cb06e2-6fda-4de5-bfa5-11abdc3a42d0"
      },
      "execution_count": null,
      "outputs": [
        {
          "output_type": "stream",
          "name": "stdout",
          "text": [
            "GodlyBadly\n",
            "1\n",
            "2\n",
            "Godly\n",
            "4\n",
            "Badly\n",
            "Godly\n",
            "7\n",
            "8\n",
            "Godly\n",
            "Badly\n",
            "11\n",
            "Godly\n",
            "13\n",
            "14\n",
            "GodlyBadly\n",
            "16\n",
            "17\n",
            "Godly\n",
            "19\n",
            "Badly\n",
            "Godly\n",
            "22\n",
            "23\n",
            "Godly\n",
            "Badly\n",
            "26\n",
            "Godly\n",
            "28\n",
            "29\n",
            "GodlyBadly\n",
            "31\n",
            "32\n",
            "Godly\n",
            "34\n",
            "Badly\n",
            "Godly\n",
            "37\n",
            "38\n",
            "Godly\n",
            "Badly\n",
            "41\n",
            "Godly\n",
            "43\n",
            "44\n",
            "GodlyBadly\n",
            "46\n",
            "47\n",
            "Godly\n",
            "49\n",
            "Badly\n",
            "Godly\n",
            "52\n",
            "53\n",
            "Godly\n",
            "Badly\n",
            "56\n",
            "Godly\n",
            "58\n",
            "59\n",
            "GodlyBadly\n",
            "61\n",
            "62\n",
            "Godly\n",
            "64\n",
            "Badly\n",
            "Godly\n",
            "67\n",
            "68\n",
            "Godly\n",
            "Badly\n",
            "71\n",
            "Godly\n",
            "73\n",
            "74\n",
            "GodlyBadly\n",
            "76\n",
            "77\n",
            "Godly\n",
            "79\n",
            "Badly\n",
            "Godly\n",
            "82\n",
            "83\n",
            "Godly\n",
            "Badly\n",
            "86\n",
            "Godly\n",
            "88\n",
            "89\n",
            "GodlyBadly\n",
            "91\n",
            "92\n",
            "Godly\n",
            "94\n",
            "Badly\n",
            "Godly\n",
            "97\n",
            "98\n",
            "Godly\n",
            "Badly\n"
          ]
        }
      ]
    },
    {
      "cell_type": "code",
      "source": [
        "n=float(input(\"Enter amount in hand \"))\n",
        "c=float(input(\"Enter price of chocolate \"))\n",
        "m=float(input(\"Enter number of wrappers for free chocolate \"))\n",
        "#Number of chocolates bought\n",
        "p=n/c\n",
        "#Number of free chocolates\n",
        "f=p/m\n",
        "print(\"Number of chocolates \",int(p+f))"
      ],
      "metadata": {
        "colab": {
          "base_uri": "https://localhost:8080/"
        },
        "id": "bfoHw0JDJ51u",
        "outputId": "92a49e3a-39d2-49db-9de2-5799571ad4d2"
      },
      "execution_count": null,
      "outputs": [
        {
          "output_type": "stream",
          "name": "stdout",
          "text": [
            "Enter amount in hand 100\n",
            "Enter price of chocolate 20\n",
            "Enter number of wrappers for free chocolate 5\n",
            "Number of chocolates  6\n"
          ]
        }
      ]
    },
    {
      "cell_type": "code",
      "source": [
        "num=int(input(\"Enter a number\"))\n",
        "factorial =1\n",
        "if num<0:\n",
        "  print(\"Factorial doesn't exist for negative numbers\")\n",
        "elif num==0:\n",
        "    print(\"The factorial of 0 is 1\")\n",
        "else:\n",
        "    for i in range(1,num+1):\n",
        "        factorial=factorial*i\n",
        "print(\"The factorial of\",num,\"is\",factorial)"
      ],
      "metadata": {
        "colab": {
          "base_uri": "https://localhost:8080/"
        },
        "id": "f_G2IwmtSnnC",
        "outputId": "08d43cfe-24db-4c06-c116-0aa9bee8fbce"
      },
      "execution_count": null,
      "outputs": [
        {
          "output_type": "stream",
          "name": "stdout",
          "text": [
            "Enter a number2\n",
            "The factorial of 2 is 2\n"
          ]
        }
      ]
    },
    {
      "cell_type": "code",
      "source": [
        "for i in range(1000,2000):\n",
        "    if i%7==0 and i%5!=0:\n",
        "      print(i)"
      ],
      "metadata": {
        "colab": {
          "base_uri": "https://localhost:8080/"
        },
        "id": "G2K87LPlULbv",
        "outputId": "87f71a7b-c7a5-43d4-d72b-06c41595cf48"
      },
      "execution_count": null,
      "outputs": [
        {
          "output_type": "stream",
          "name": "stdout",
          "text": [
            "1001\n",
            "1008\n",
            "1022\n",
            "1029\n",
            "1036\n",
            "1043\n",
            "1057\n",
            "1064\n",
            "1071\n",
            "1078\n",
            "1092\n",
            "1099\n",
            "1106\n",
            "1113\n",
            "1127\n",
            "1134\n",
            "1141\n",
            "1148\n",
            "1162\n",
            "1169\n",
            "1176\n",
            "1183\n",
            "1197\n",
            "1204\n",
            "1211\n",
            "1218\n",
            "1232\n",
            "1239\n",
            "1246\n",
            "1253\n",
            "1267\n",
            "1274\n",
            "1281\n",
            "1288\n",
            "1302\n",
            "1309\n",
            "1316\n",
            "1323\n",
            "1337\n",
            "1344\n",
            "1351\n",
            "1358\n",
            "1372\n",
            "1379\n",
            "1386\n",
            "1393\n",
            "1407\n",
            "1414\n",
            "1421\n",
            "1428\n",
            "1442\n",
            "1449\n",
            "1456\n",
            "1463\n",
            "1477\n",
            "1484\n",
            "1491\n",
            "1498\n",
            "1512\n",
            "1519\n",
            "1526\n",
            "1533\n",
            "1547\n",
            "1554\n",
            "1561\n",
            "1568\n",
            "1582\n",
            "1589\n",
            "1596\n",
            "1603\n",
            "1617\n",
            "1624\n",
            "1631\n",
            "1638\n",
            "1652\n",
            "1659\n",
            "1666\n",
            "1673\n",
            "1687\n",
            "1694\n",
            "1701\n",
            "1708\n",
            "1722\n",
            "1729\n",
            "1736\n",
            "1743\n",
            "1757\n",
            "1764\n",
            "1771\n",
            "1778\n",
            "1792\n",
            "1799\n",
            "1806\n",
            "1813\n",
            "1827\n",
            "1834\n",
            "1841\n",
            "1848\n",
            "1862\n",
            "1869\n",
            "1876\n",
            "1883\n",
            "1897\n",
            "1904\n",
            "1911\n",
            "1918\n",
            "1932\n",
            "1939\n",
            "1946\n",
            "1953\n",
            "1967\n",
            "1974\n",
            "1981\n",
            "1988\n"
          ]
        }
      ]
    },
    {
      "cell_type": "code",
      "source": [
        "n=int(input(\"Enter the value of n:\"))\n",
        "x=[]\n",
        "for i in range (1,10):\n",
        "  if(i%3==0):\n",
        "    x.append(i)\n",
        "print(\"Thse sre the multiples of 3:\",x)"
      ],
      "metadata": {
        "colab": {
          "base_uri": "https://localhost:8080/"
        },
        "id": "rwdnjusFU-BU",
        "outputId": "3a9b2b07-055f-43c0-ea04-f1a7216e1902"
      },
      "execution_count": null,
      "outputs": [
        {
          "output_type": "stream",
          "name": "stdout",
          "text": [
            "Enter the value of n:3\n",
            "Thse sre the multiples of 3: [3, 6, 9]\n"
          ]
        }
      ]
    },
    {
      "cell_type": "code",
      "source": [
        "num=int(input(\"Enter a number\"))\n",
        "sum=0\n",
        "while num>0:\n",
        "  sum+=num\n",
        "  num-=1\n",
        "print(\"The sum is\",sum)"
      ],
      "metadata": {
        "colab": {
          "base_uri": "https://localhost:8080/"
        },
        "id": "J2UGrjwuV_YT",
        "outputId": "4d8ff27d-7b22-4a0a-b415-bbf644bc6982"
      },
      "execution_count": null,
      "outputs": [
        {
          "output_type": "stream",
          "name": "stdout",
          "text": [
            "Enter a number5\n",
            "The sum is 15\n"
          ]
        }
      ]
    },
    {
      "cell_type": "code",
      "source": [
        "numbers=(1,2,3,4,5,6,7,8,9)#Declaring the Tuple\n",
        "count_odd=0\n",
        "count_even=0\n",
        "for x in numbers:\n",
        "    if not x%2:\n",
        "        count_even+=1\n",
        "else:\n",
        "    count_odd+=1\n",
        "print(\"Numbers of even numbers :\",count_even)\n",
        "print(\"Numbers of odd numbers :\",count_odd)"
      ],
      "metadata": {
        "colab": {
          "base_uri": "https://localhost:8080/"
        },
        "id": "OzruhTk56sPm",
        "outputId": "8cf48fb0-215f-4a5f-9ed9-09340c2126c4"
      },
      "execution_count": null,
      "outputs": [
        {
          "output_type": "stream",
          "name": "stdout",
          "text": [
            "Numbers of even numbers : 4\n",
            "Numbers of odd numbers : 1\n"
          ]
        }
      ]
    },
    {
      "cell_type": "code",
      "source": [
        "num=2\n",
        "flag=0\n",
        "for i in range(2,num):\n",
        "  if num%i==0:\n",
        "    flag=1\n",
        "    break\n",
        "if flag==1:\n",
        "      print(\"Not Prime\")\n",
        "else:\n",
        "        print(\"Prime\")"
      ],
      "metadata": {
        "colab": {
          "base_uri": "https://localhost:8080/"
        },
        "id": "naXOIO6jMhac",
        "outputId": "ddd0ab93-3c31-423d-d2d8-998a340606fd"
      },
      "execution_count": null,
      "outputs": [
        {
          "output_type": "stream",
          "name": "stdout",
          "text": [
            "Prime\n"
          ]
        }
      ]
    },
    {
      "cell_type": "code",
      "source": [
        "for i in range(1,11):\n",
        "  print(i)"
      ],
      "metadata": {
        "colab": {
          "base_uri": "https://localhost:8080/"
        },
        "id": "6279hyQSTydJ",
        "outputId": "9d2ba534-ff97-4061-c8ba-b33f98ed3510"
      },
      "execution_count": null,
      "outputs": [
        {
          "output_type": "stream",
          "name": "stdout",
          "text": [
            "1\n",
            "2\n",
            "3\n",
            "4\n",
            "5\n",
            "6\n",
            "7\n",
            "8\n",
            "9\n",
            "10\n"
          ]
        }
      ]
    },
    {
      "cell_type": "code",
      "source": [
        "for i in range(0,6):\n",
        "    print(i)"
      ],
      "metadata": {
        "colab": {
          "base_uri": "https://localhost:8080/"
        },
        "id": "7J6B6Llf-RN5",
        "outputId": "149757d7-6909-46b4-9c61-374243b184b4"
      },
      "execution_count": null,
      "outputs": [
        {
          "output_type": "stream",
          "name": "stdout",
          "text": [
            "0\n",
            "1\n",
            "2\n",
            "3\n",
            "4\n",
            "5\n"
          ]
        }
      ]
    },
    {
      "cell_type": "code",
      "source": [
        "x,y=0,1\n",
        "while y<10:\n",
        "  print(y)\n",
        "  x,y=y,x+y"
      ],
      "metadata": {
        "colab": {
          "base_uri": "https://localhost:8080/"
        },
        "id": "WOR9VFiBAwau",
        "outputId": "c0731c2c-4e66-449e-ad10-fed319d4d4b7"
      },
      "execution_count": null,
      "outputs": [
        {
          "output_type": "stream",
          "name": "stdout",
          "text": [
            "1\n",
            "1\n",
            "2\n",
            "3\n",
            "5\n",
            "8\n"
          ]
        }
      ]
    },
    {
      "cell_type": "code",
      "source": [
        "#sequential control statement\n",
        "a=20\n",
        "b=10\n",
        "c=a-b\n",
        "print(\"Subtraction is\":,c)"
      ],
      "metadata": {
        "colab": {
          "base_uri": "https://localhost:8080/",
          "height": 131
        },
        "id": "necpH2Prz5zH",
        "outputId": "d6578c80-51d6-46e1-9040-9eaf4edb0068"
      },
      "execution_count": null,
      "outputs": [
        {
          "output_type": "error",
          "ename": "SyntaxError",
          "evalue": "ignored",
          "traceback": [
            "\u001b[0;36m  File \u001b[0;32m\"<ipython-input-5-a770de4cbb50>\"\u001b[0;36m, line \u001b[0;32m5\u001b[0m\n\u001b[0;31m    print(\"Subtraction is\":,c)\u001b[0m\n\u001b[0m                          ^\u001b[0m\n\u001b[0;31mSyntaxError\u001b[0m\u001b[0;31m:\u001b[0m invalid syntax\n"
          ]
        }
      ]
    },
    {
      "cell_type": "code",
      "source": [
        "#sequential statement (divsion)\n",
        "a=20\n",
        "b=4\n",
        "c=a/b\n",
        "d=a+b\n",
        "e=a-b\n",
        "f=a%b\n",
        "m=a-b\n",
        "print(\"Division of a and b is :\",c)\n",
        "print(\"Addition of a and b is:\",d)\n",
        "print(\"Product of a and b is :\",e)\n",
        "print(\"Modulus of a and b is :\",f)\n",
        "print(\"Subtraction of a and b is :\",m)"
      ],
      "metadata": {
        "colab": {
          "base_uri": "https://localhost:8080/"
        },
        "id": "TjIt95_j1ab9",
        "outputId": "3d5973d4-b067-4335-f1d9-5a0cde3e895e"
      },
      "execution_count": null,
      "outputs": [
        {
          "output_type": "stream",
          "name": "stdout",
          "text": [
            "Division of a and b is : 5.0\n",
            "Addition of a and b is: 24\n",
            "Product of a and b is : 16\n",
            "Modulus of a and b is : 0\n",
            "Subtraction of a and b is : 16\n"
          ]
        }
      ]
    },
    {
      "cell_type": "code",
      "source": [
        "#flow chart "
      ],
      "metadata": {
        "id": "IUmptKLX1u_h"
      },
      "execution_count": null,
      "outputs": []
    },
    {
      "cell_type": "code",
      "source": [
        "#condition statement \n",
        "#if statement\n",
        "n=10\n",
        "if (n%2==0):\n",
        "  print (\"n is a even number\")\n",
        "else: #(n!=0)\n",
        "  print (\"n is an odd number\")\n"
      ],
      "metadata": {
        "id": "zj5-CeskfCH_",
        "colab": {
          "base_uri": "https://localhost:8080/"
        },
        "outputId": "5ed873de-22bb-4fbe-e415-2d586ecc4c1f"
      },
      "execution_count": null,
      "outputs": [
        {
          "output_type": "stream",
          "name": "stdout",
          "text": [
            "n is a even number\n"
          ]
        }
      ]
    },
    {
      "cell_type": "code",
      "source": [
        "a=5\n",
        "b=4\n",
        "if(a<b):\n",
        "  print(\"a is greater than b\")\n",
        "else:\n",
        "  print(\"a is less than b\")\n",
        "if(a<6):\n",
        "  print(\"a is less than 6\")"
      ],
      "metadata": {
        "colab": {
          "base_uri": "https://localhost:8080/"
        },
        "id": "CDTKLJTT49Ej",
        "outputId": "bff997de-0499-4342-92a8-479772693ca7"
      },
      "execution_count": null,
      "outputs": [
        {
          "output_type": "stream",
          "name": "stdout",
          "text": [
            "a is less than b\n",
            "a is less than 6\n"
          ]
        }
      ]
    },
    {
      "cell_type": "code",
      "source": [
        "#nested if\n",
        "a=50\n",
        "b=40\n",
        "c=20\n",
        "if (a>b):\n",
        "  if(a>c):\n",
        "     print(\"a is bigger\")\n",
        "  else :\n",
        "    print(\"c isbigger \")\n",
        "elif(b>c):\n",
        "  print(\"b is bigger \")\n",
        "else:\n",
        "  print(\"c is biggger\")\n"
      ],
      "metadata": {
        "colab": {
          "base_uri": "https://localhost:8080/"
        },
        "id": "ZLsWRZd87D0q",
        "outputId": "d8cfafe0-848b-493c-b73b-7132618fab6f"
      },
      "execution_count": null,
      "outputs": [
        {
          "output_type": "stream",
          "name": "stdout",
          "text": [
            "a is bigger\n"
          ]
        }
      ]
    },
    {
      "cell_type": "code",
      "source": [
        "#AVERAGE MARKS OF A STUDENT\n",
        "a=float(input(\"Enter your Marks in subject 1 \"))\n",
        "b=float(input(\"Enter your marks in subject 2 \"))\n",
        "c=float(input(\"Enter your marks in subject 3 \"))\n",
        "#Average marks=(sum of the marks in all three subjects)/Total no. of subjects\n",
        "p=(a+b+c)/3\n",
        "print(p)\n",
        "if(p>=65):  #if else condition \n",
        "    print(\"pass\") \n",
        "\n",
        "else:\n",
        "    print(\"fail\")\n"
      ],
      "metadata": {
        "colab": {
          "base_uri": "https://localhost:8080/"
        },
        "id": "8mSsMnVZfDXS",
        "outputId": "c2fe9735-9a82-4589-e573-83dcad857bfd"
      },
      "execution_count": null,
      "outputs": [
        {
          "output_type": "stream",
          "name": "stdout",
          "text": [
            "Enter your Marks in subject 1 70\n",
            "Enter your marks in subject 2 80\n",
            "Enter your marks in subject 3 90\n",
            "80.0\n",
            "pass\n"
          ]
        }
      ]
    },
    {
      "cell_type": "code",
      "source": [
        "#Three sides of a a triangle is a,b and c\n",
        "a=float(input(\"Enter your first side\"))\n",
        "b=float(input(\"Enter your second Side\"))\n",
        "c=float(input(\"Enter your third side\"))\n",
        "#calculate the semi-perimeter of the triangle\n",
        "s=(a+b+c)/2\n",
        "print(s)\n"
      ],
      "metadata": {
        "colab": {
          "base_uri": "https://localhost:8080/"
        },
        "id": "jsuNkF2_2q4K",
        "outputId": "3d1d94c7-a6c8-4da5-e3ec-9c829adb130e"
      },
      "execution_count": null,
      "outputs": [
        {
          "output_type": "stream",
          "name": "stdout",
          "text": [
            "Enter your first side7.2\n",
            "Enter your second Side4.8\n",
            "Enter your third side5.2\n",
            "8.6\n"
          ]
        }
      ]
    },
    {
      "cell_type": "code",
      "execution_count": null,
      "metadata": {
        "id": "bBeVWtw7aM-Z"
      },
      "outputs": [],
      "source": []
    },
    {
      "cell_type": "code",
      "execution_count": null,
      "metadata": {
        "colab": {
          "background_save": true
        },
        "id": "PInPp2gRaO0m",
        "outputId": "c9fe4568-004c-4f72-ae7e-2b7b3b7a7fb6"
      },
      "outputs": [
        {
          "ename": "SyntaxError",
          "evalue": "ignored",
          "output_type": "error",
          "traceback": [
            "\u001b[0;36m  File \u001b[0;32m\"<ipython-input-1-7f2ce648e6c1>\"\u001b[0;36m, line \u001b[0;32m1\u001b[0m\n\u001b[0;31m    int q a=b*c\u001b[0m\n\u001b[0m        ^\u001b[0m\n\u001b[0;31mSyntaxError\u001b[0m\u001b[0;31m:\u001b[0m invalid syntax\n"
          ]
        }
      ],
      "source": [
        "int q a=b*c\n",
        "b=(input)\n",
        "c=int 3000\n",
        "s=(input)\n",
        "p=int(q-s)\n",
        "print(\"p\")"
      ]
    },
    {
      "cell_type": "code",
      "source": [],
      "metadata": {
        "colab": {
          "base_uri": "https://localhost:8080/",
          "height": 218
        },
        "id": "z5qHpRTZnotA",
        "outputId": "e345a5cf-175e-497b-8a7c-a81af87ea2ea"
      },
      "execution_count": null,
      "outputs": [
        {
          "output_type": "error",
          "ename": "NameError",
          "evalue": "ignored",
          "traceback": [
            "\u001b[0;31m---------------------------------------------------------------------------\u001b[0m",
            "\u001b[0;31mNameError\u001b[0m                                 Traceback (most recent call last)",
            "\u001b[0;32m<ipython-input-8-e0c331f4dbee>\u001b[0m in \u001b[0;36m<module>\u001b[0;34m\u001b[0m\n\u001b[0;32m----> 1\u001b[0;31m \u001b[0minput\u001b[0m\u001b[0;34m(\u001b[0m\u001b[0mradius\u001b[0m\u001b[0;34m)\u001b[0m\u001b[0;34m\u001b[0m\u001b[0;34m\u001b[0m\u001b[0m\n\u001b[0m\u001b[1;32m      2\u001b[0m \u001b[0mpi\u001b[0m\u001b[0;34m=\u001b[0m\u001b[0;36m3.14\u001b[0m\u001b[0;34m\u001b[0m\u001b[0;34m\u001b[0m\u001b[0m\n\u001b[1;32m      3\u001b[0m \u001b[0marea\u001b[0m\u001b[0;34m=\u001b[0m\u001b[0mpi\u001b[0m\u001b[0;34m*\u001b[0m\u001b[0;34m(\u001b[0m\u001b[0mradius\u001b[0m\u001b[0;34m*\u001b[0m\u001b[0mradius\u001b[0m\u001b[0;34m)\u001b[0m\u001b[0;34m\u001b[0m\u001b[0;34m\u001b[0m\u001b[0m\n\u001b[1;32m      4\u001b[0m \u001b[0mprint\u001b[0m\u001b[0;34m(\u001b[0m\u001b[0;34m\"area\"\u001b[0m\u001b[0;34m)\u001b[0m\u001b[0;34m\u001b[0m\u001b[0;34m\u001b[0m\u001b[0m\n",
            "\u001b[0;31mNameError\u001b[0m: name 'radius' is not defined"
          ]
        }
      ]
    },
    {
      "cell_type": "markdown",
      "source": [
        "pi=3.14\n",
        "radius=float(input(\"Type the radius of circle\"))\n",
        "area=pi*radius*radius\n",
        "print(\"The area of circle is:\",area)"
      ],
      "metadata": {
        "id": "wBzPDtvxpJnP"
      }
    },
    {
      "cell_type": "code",
      "source": [
        "pi=3.14\n",
        "radius=float(input(\"Type the radius\"))\n",
        "area=pi*radius*radius\n",
        "print(\"Area of circle:\",area)"
      ],
      "metadata": {
        "colab": {
          "base_uri": "https://localhost:8080/"
        },
        "id": "431pkVmtp79u",
        "outputId": "c2315e7c-f825-4516-9a97-ed0a58920926"
      },
      "execution_count": null,
      "outputs": [
        {
          "output_type": "stream",
          "name": "stdout",
          "text": [
            "Type the radius9\n",
            "Area of circle: 254.34\n"
          ]
        }
      ]
    },
    {
      "cell_type": "code",
      "execution_count": null,
      "metadata": {
        "id": "nLYrCPl5H-w3"
      },
      "outputs": [],
      "source": []
    },
    {
      "cell_type": "code",
      "execution_count": null,
      "metadata": {
        "colab": {
          "base_uri": "https://localhost:8080/",
          "height": 131
        },
        "id": "d10GyJCqkKM9",
        "outputId": "11343cd4-c1e6-418f-cd0c-67c94e82ed49"
      },
      "outputs": [
        {
          "ename": "SyntaxError",
          "evalue": "ignored",
          "output_type": "error",
          "traceback": [
            "\u001b[0;36m  File \u001b[0;32m\"<ipython-input-18-a11816b00ca0>\"\u001b[0;36m, line \u001b[0;32m2\u001b[0m\n\u001b[0;31m    int main()\u001b[0m\n\u001b[0m           ^\u001b[0m\n\u001b[0;31mSyntaxError\u001b[0m\u001b[0;31m:\u001b[0m invalid syntax\n"
          ]
        }
      ],
      "source": [
        "\n",
        "#include<stdio.h>\n",
        "int main()\n",
        "{\n",
        "    float cel,fer;\n",
        "    printf(\"Enter temp.in celsius\");\n",
        "    scanf(%f,&cel);\n",
        "    fer=(9*cel)/5+32;\n",
        "    printf(\"converted value is %f\",fer);\n",
        "    return 0;\n",
        "\n",
        "\n",
        "\n",
        "}"
      ]
    },
    {
      "cell_type": "code",
      "execution_count": null,
      "metadata": {
        "colab": {
          "base_uri": "https://localhost:8080/",
          "height": 131
        },
        "id": "6dcX6RpJIAGB",
        "outputId": "22768657-cbf7-4f7d-f0b2-7f72ec29b4fa"
      },
      "outputs": [
        {
          "ename": "SyntaxError",
          "evalue": "ignored",
          "output_type": "error",
          "traceback": [
            "\u001b[0;36m  File \u001b[0;32m\"<ipython-input-3-bd1205d3a512>\"\u001b[0;36m, line \u001b[0;32m3\u001b[0m\n\u001b[0;31m    area of circle =pi*radius*(input)\u001b[0m\n\u001b[0m          ^\u001b[0m\n\u001b[0;31mSyntaxError\u001b[0m\u001b[0;31m:\u001b[0m invalid syntax\n"
          ]
        }
      ],
      "source": [
        "radius =float(input)\n",
        "pi=3.14\n",
        "area of circle =pi*radius*(input)\n",
        "print(area of circle)"
      ]
    },
    {
      "cell_type": "code",
      "execution_count": null,
      "metadata": {
        "id": "okEH8rp_L6lx"
      },
      "outputs": [],
      "source": []
    },
    {
      "cell_type": "code",
      "execution_count": null,
      "metadata": {
        "colab": {
          "base_uri": "https://localhost:8080/",
          "height": 131
        },
        "id": "caqdICgDKavs",
        "outputId": "9e8b9656-8a58-4c1f-b0ce-39d3cef05e07"
      },
      "outputs": [
        {
          "ename": "SyntaxError",
          "evalue": "ignored",
          "output_type": "error",
          "traceback": [
            "\u001b[0;36m  File \u001b[0;32m\"<ipython-input-4-f054429a3e83>\"\u001b[0;36m, line \u001b[0;32m4\u001b[0m\n\u001b[0;31m    not=int(intput)\u001b[0m\n\u001b[0m       ^\u001b[0m\n\u001b[0;31mSyntaxError\u001b[0m\u001b[0;31m:\u001b[0m invalid syntax\n"
          ]
        }
      ],
      "source": [
        "noc=int(input)\n",
        "cooc=int(input)\n",
        "cooch=int(intput)\n",
        "not=int(intput)\n",
        "nowh=int(input)\n",
        "coc=noc=cooc\n",
        "print(\"coc,\"noc\")\n"
      ]
    },
    {
      "cell_type": "markdown",
      "metadata": {
        "id": "Y2jvNUKghAhT"
      },
      "source": []
    },
    {
      "cell_type": "code",
      "execution_count": null,
      "metadata": {
        "colab": {
          "base_uri": "https://localhost:8080/",
          "height": 131
        },
        "id": "jdUubhS-s4DH",
        "outputId": "ee46dfbd-7497-4955-ebdb-38a03904d13c"
      },
      "outputs": [
        {
          "ename": "SyntaxError",
          "evalue": "ignored",
          "output_type": "error",
          "traceback": [
            "\u001b[0;36m  File \u001b[0;32m\"<ipython-input-1-fbe25f1ce66f>\"\u001b[0;36m, line \u001b[0;32m2\u001b[0m\n\u001b[0;31m    int main(){\u001b[0m\n\u001b[0m           ^\u001b[0m\n\u001b[0;31mSyntaxError\u001b[0m\u001b[0;31m:\u001b[0m invalid syntax\n"
          ]
        }
      ],
      "source": [
        "#include<stdio.h>\n",
        "int main(){\n",
        "    int number 1 ,number 2;\n",
        "    printf(\"Enter two numbers\");\n",
        "    scanf(\"%d,&number1\");\n",
        "    scanf(\"%d,&number2\");\n",
        "    if(number1>number2){\n",
        "        ptint(\"%d is the largesst one\",number1);\n",
        "    }\n",
        "    else{\n",
        "        printf(\"%d is the larger one\",number2);\n",
        "    }\n",
        "}"
      ]
    },
    {
      "cell_type": "code",
      "execution_count": null,
      "metadata": {
        "colab": {
          "base_uri": "https://localhost:8080/"
        },
        "id": "qtq52BFJ5fc6",
        "outputId": "0165751f-1da5-4e54-d31d-05c777297990"
      },
      "outputs": [
        {
          "name": "stdout",
          "output_type": "stream",
          "text": [
            "Priyanshu Sharma\n"
          ]
        }
      ],
      "source": [
        "print(\"Priyanshu Sharma\")"
      ]
    },
    {
      "cell_type": "code",
      "execution_count": null,
      "metadata": {
        "colab": {
          "base_uri": "https://localhost:8080/"
        },
        "id": "SSf2N58n6aD3",
        "outputId": "17d14bb7-dcfc-4070-d088-308fdb8c8208"
      },
      "outputs": [
        {
          "name": "stdout",
          "output_type": "stream",
          "text": [
            "This code was written by Priyanshu Sharma\n"
          ]
        }
      ],
      "source": [
        "print(\"This code was written by Priyanshu Sharma\")"
      ]
    },
    {
      "cell_type": "code",
      "execution_count": null,
      "metadata": {
        "colab": {
          "base_uri": "https://localhost:8080/"
        },
        "id": "lW6MWVis6sLr",
        "outputId": "7d59aa44-7025-4664-9755-fad1568c759a"
      },
      "outputs": [
        {
          "name": "stdout",
          "output_type": "stream",
          "text": [
            "Priyanshu Sharma\n",
            "22BHI10063\n",
            "Computer Science and Engineering with specialisation in Health Informatics\n",
            "VIT Bhopal\n"
          ]
        }
      ],
      "source": [
        "print(\"Priyanshu Sharma\")\n",
        "print(\"22BHI10063\")\n",
        "print(\"Computer Science and Engineering with specialisation in Health Informatics\")\n",
        "print(\"VIT Bhopal\")"
      ]
    },
    {
      "cell_type": "code",
      "execution_count": null,
      "metadata": {
        "colab": {
          "base_uri": "https://localhost:8080/"
        },
        "id": "AQG-Ug7b7K3C",
        "outputId": "8c63cc95-1c77-4184-ebca-946261791153"
      },
      "outputs": [
        {
          "name": "stdout",
          "output_type": "stream",
          "text": [
            "Hello\n"
          ]
        }
      ],
      "source": [
        "print('Hello')"
      ]
    },
    {
      "cell_type": "code",
      "execution_count": null,
      "metadata": {
        "colab": {
          "base_uri": "https://localhost:8080/"
        },
        "id": "9j79MQ_X7goT",
        "outputId": "9b5468b2-09d4-41e0-e786-8d80e7cb83a5"
      },
      "outputs": [
        {
          "name": "stdout",
          "output_type": "stream",
          "text": [
            "10\n"
          ]
        }
      ],
      "source": [
        "a=5\n",
        "b=4\n",
        "c=1\n",
        "sum=a+b+c\n",
        "print(sum)"
      ]
    },
    {
      "cell_type": "code",
      "execution_count": null,
      "metadata": {
        "colab": {
          "base_uri": "https://localhost:8080/"
        },
        "id": "APbzFK4G7t8P",
        "outputId": "e1ce2f70-35e8-4e9f-b6f0-d537b15810ee"
      },
      "outputs": [
        {
          "name": "stdout",
          "output_type": "stream",
          "text": [
            "30\n"
          ]
        }
      ],
      "source": [
        "a=10\n",
        "b=20\n",
        "c=a+b\n",
        "print(c)\n"
      ]
    }
  ],
  "metadata": {
    "colab": {
      "provenance": [],
      "authorship_tag": "ABX9TyOALAXVZuu2ofhdJogW7DET",
      "include_colab_link": true
    },
    "kernelspec": {
      "display_name": "Python 3",
      "name": "python3"
    },
    "language_info": {
      "name": "python"
    }
  },
  "nbformat": 4,
  "nbformat_minor": 0
}
