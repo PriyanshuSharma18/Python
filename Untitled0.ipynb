{
  "cells": [
    {
      "cell_type": "markdown",
      "metadata": {
        "id": "view-in-github",
        "colab_type": "text"
      },
      "source": [
        "<a href=\"https://colab.research.google.com/github/PriyanshuSharma18/Python/blob/main/Untitled0.ipynb\" target=\"_parent\"><img src=\"https://colab.research.google.com/assets/colab-badge.svg\" alt=\"Open In Colab\"/></a>"
      ]
    },
    {
      "cell_type": "code",
      "execution_count": null,
      "metadata": {
        "colab": {
          "base_uri": "https://localhost:8080/"
        },
        "id": "N8F-XSmIgdav",
        "outputId": "fd9ee350-d1ff-42b8-c934-3560ddd319b1"
      },
      "outputs": [
        {
          "name": "stdout",
          "output_type": "stream",
          "text": [
            "9\n"
          ]
        }
      ],
      "source": [
        "a=5\n",
        "b=4\n",
        "sum=a+b\n",
        "print(sum)\n"
      ]
    },
    {
      "cell_type": "code",
      "execution_count": null,
      "metadata": {
        "colab": {
          "base_uri": "https://localhost:8080/"
        },
        "id": "yr7kJNf0g9G4",
        "outputId": "3fdb43bf-43e3-48bb-e354-3f893c547405"
      },
      "outputs": [
        {
          "name": "stdout",
          "output_type": "stream",
          "text": [
            "1200\n",
            "0.75\n"
          ]
        }
      ],
      "source": [
        "a=30\n",
        "b=40\n",
        "divide=a/b\n",
        "multiply=a*b\n",
        "print(multiply)\n",
        "print (divide)"
      ]
    },
    {
      "cell_type": "code",
      "source": [
        "#https://www.w3resource.com/python-exercises/array/\n",
        " #Write a Python program to create an array of 5 integers and display the array items. Access individual element through indexes.\n",
        "from array import*\n",
        "a=array('i',[1,2,5,7,9])\n",
        "for i in a:\n",
        "   print(i)\n",
        "   \n",
        "#Write a Python program to append a new item to the end of the array. \n",
        "a.append(3)   \n",
        "print(\"New Array\",a)\n",
        "#Write a Python program to reverse the order of the items in the array. Go to the editor\n",
        "a.reverse()\n",
        "print(a)\n",
        "#Write a Python program to get the length in bytes of one array item in the internal representation. Go to the editor\n",
        "print(a.itemsize)\n",
        "print(len(a))\n",
        "#Write a Python program to get the current memory address and the length in elements of the buffer used to hold an array’s contents and also find the size of the memory buffer in bytes\n",
        "print(\"Current memory address and the length in elements of the buffer:\",a.buffer_info())\n",
        "print(\"The size of the memory buffer in bytes: \"+str(a.buffer_info()[1] * a.itemsize))\n",
        "#Write a Python program to get the number of occurrences of a specified element in an array\n",
        "from array import *\n",
        "a=array('i',[1,2,3,5,7,9,3,99,3])\n",
        "print(a.count(3))\n",
        "# Write a Python program to append items from inerrable to the end of the array.\n",
        "a.extend(a)\n",
        "print(a)\n",
        "#Write a Python program to convert an array to an array of machine values and return the bytes representation\n",
        "p=a.tobytes()\n",
        "print(p)\n",
        "# Write a Python program to append items from a specified list\n",
        "from array import*\n",
        "a_list=[1,2,3,4,5,6,7,8,9,3,99,3]\n",
        "p=array('i',[])\n",
        "p.fromlist(a_list)\n",
        "print(p)   \n",
        "# Write a Python program to insert a new item before the second element in an existing array. Go to the editor\n",
        "a.insert(1,99)\n",
        "print(a)\n",
        "#Write a Python program to remove a specified item using the index from an array\n",
        "a.pop(2)\n",
        "print(a)\n",
        "#Write a Python program to remove the first occurrence of a specified element from an array.\n",
        "a_list.remove(3)\n",
        "print(a_list)\n",
        "#Write a Python program to convert an array to an ordinary list with the same items\n",
        "p=a.tolist()\n",
        "print(p)\n",
        "#Write a Python program to find whether a given array of integers contains any duplicate element. Return true if any value appears at least twice in the said array and return false if every element is distinct\n",
        "def test_duplicate(array_num):\n",
        "  nums_set=set(array_num)\n",
        "  return len(array_num)!=len(nums_set)\n",
        "print(test_duplicate([1,2,3,4,5,9]))\n",
        "print(test_duplicate([1,2,3,4,4,5,6,9]))\n",
        "print(test_duplicate([1,1,2,2,3,4,4,5,6,6,9,9]))\n",
        "#Write a Python program to find the first duplicate element in a given array of integers. Return -1 If there are no such elements.\n",
        "def find_first_duplicate(nums):\n",
        "    num_set = set()\n",
        "    no_duplicate = -1\n",
        "\n",
        "    for i in range(len(nums)):\n",
        "\n",
        "        if nums[i] in num_set:\n",
        "            return nums[i]\n",
        "        else:\n",
        "            num_set.add(nums[i])\n",
        "\n",
        "    return no_duplicate\n",
        "\n",
        "print(find_first_duplicate([1, 2, 3, 4, 4, 5]))\n",
        "print(find_first_duplicate([1, 2, 3, 4]))\n",
        "print(find_first_duplicate([1, 1, 2, 3, 3, 2, 2]))\n",
        "# Write a Python program to check whether it follows the sequence given in the patterns array.\n",
        "def is_samePatterns(colors, patterns):    \n",
        "    if len(colors) != len(patterns):\n",
        "        return False    \n",
        "    sdict = {}\n",
        "    pset = set()\n",
        "    sset = set()    \n",
        "    for i in range(len(patterns)):\n",
        "        pset.add(patterns[i])\n",
        "        sset.add(colors[i])\n",
        "        if patterns[i] not in sdict.keys():\n",
        "            sdict[patterns[i]] = []\n",
        "\n",
        "        keys = sdict[patterns[i]]\n",
        "        keys.append(colors[i])\n",
        "        sdict[patterns[i]] = keys\n",
        "\n",
        "    if len(pset) != len(sset):\n",
        "        return False   \n",
        "\n",
        "    for values in sdict.values():\n",
        "\n",
        "        for i in range(len(values) - 1):\n",
        "            if values[i] != values[i+1]:\n",
        "                return False\n",
        "\n",
        "    return True\n",
        "\n",
        "print(is_samePatterns([\"red\", \n",
        " \"green\", \n",
        " \"green\"], [\"a\", \n",
        " \"b\", \n",
        " \"b\"])) \n",
        "\n",
        "print(is_samePatterns([\"red\", \n",
        " \"green\", \n",
        " \"greenn\"], [\"a\", \n",
        " \"b\", \n",
        " \"b\"])) \n",
        "#Write a Python program to find a pair with highest product from a given array of integers.\n",
        "def max_Product(arr): \n",
        "    arr_len = len(arr) \n",
        "    if (arr_len < 2): \n",
        "        print(\"No pairs exists\") \n",
        "        return      \n",
        "    # Initialize max product pair \n",
        "    x = arr[0]; y = arr[1] \n",
        "\n",
        "    # Traverse through every possible pair     \n",
        "    for i in range(0, arr_len): \n",
        "\n",
        "        for j in range(i + 1, arr_len): \n",
        "            if (arr[i] * arr[j] > x * y): \n",
        "                x = arr[i]; y = arr[j] \n",
        "\n",
        "    return x,y    \n",
        "\n",
        "nums = [1, 2, 3, 4, 7, 0, 8, 4] \n",
        "print(\"Original array:\", nums)\n",
        "print(\"Maximum product pair is:\", max_Product(nums))\n",
        "\n",
        "nums = [0, -1, -2, -4, 5, 0, -6] \n",
        "print(\"\\nOriginal array:\", nums)\n",
        "print(\"Maximum product pair is:\", max_Product(nums))\n",
        "\n",
        "#Write a Python program to create an array contains six integers. Also print all the members of the array. \n",
        "a=array('i',[1,2,3,4,5,9,99])\n",
        "for i in a:\n",
        "    print(i)\n",
        "# Write a Python program to get an array buffer information\n",
        "a=array('i',[2,9])\n",
        "print(a.buffer_info())\n",
        "#Write a Python program to get the length of an array.\n",
        "print(len(a))\n",
        "#Write a Python program to get the array size of types unsigned integer and float\n",
        "print(a.itemsize)\n",
        "# Write a Python program to read a string and interpreting the string as an array of machine values.\n",
        "from array import array\n",
        "import binascii\n",
        "array1 = array('i', [7, 8, 9, 10])\n",
        "print('array1:', array1)\n",
        "as_bytes = array1.tobytes()\n",
        "print('Bytes:', binascii.hexlify(as_bytes))\n",
        "array2 = array('i')\n",
        "array2.frombytes(as_bytes)\n",
        "print('array2:', array2)\n",
        "# Write a Python program to remove all duplicate elements from a given array and returns a new array.\n",
        "import array as arr\n",
        "def test(nums):\n",
        "    return sorted(set(nums),key=nums.index)\n",
        "\n",
        "array_num = arr.array('i', [1, 3, 5, 1, 3, 7, 9])\n",
        "print(\"Original array:\")\n",
        "for i in range(len(array_num)):    \n",
        "    print(array_num[i], end=' ')\n",
        "print(\"\\nAfter removing duplicate elements from the said array:\")\n",
        "result = arr.array('i', test(array_num))\n",
        "for i in range(len(result)):    \n",
        "    print(result[i], end=' ')\n",
        "array_num = arr.array('i', [2, 4, 2, 6, 4, 8])\n",
        "print(\"\\nOriginal array:\")\n",
        "for i in range(len(array_num)):    \n",
        "    print(array_num[i], end=' ')\n",
        "print(\"\\nAfter removing duplicate elements from the said array:\")\n",
        "result = arr.array('i', test(array_num))\n",
        "for i in range(len(result)):    \n",
        "    print(result[i], end=' ')\n",
        "#Write a Python program to find the missing number in a given array of numbers between 10 and 20. \n",
        "import array as arr\n",
        "def test(nums):\n",
        "    return sum(range(10, 21)) - sum(list(nums))\n",
        "\n",
        "array_num = arr.array('i', [10, 11, 12, 13, 14, 16, 17, 18, 19, 20])\n",
        "print(\"Original array:\")\n",
        "for i in range(len(array_num)):    \n",
        "    print(array_num[i], end=' ')\n",
        "print(\"\\nMissing number in the said array (10-20): \",test(array_num))\n",
        " \n",
        "array_num = arr.array('i', [10, 11, 12, 13, 14, 15, 16, 17, 18, 19])\n",
        "print(\"\\nOriginal array:\")\n",
        "for i in range(len(array_num)):    \n",
        "    print(array_num[i], end=' ')\n",
        "print(\"\\nMissing number in the said array (10-20): \",test(array_num))\n",
        "\n"
      ],
      "metadata": {
        "colab": {
          "base_uri": "https://localhost:8080/"
        },
        "id": "uo4pqbYtXBIu",
        "outputId": "7846e830-63b3-422c-b1c2-1c57a2d4ce8d"
      },
      "execution_count": null,
      "outputs": [
        {
          "output_type": "stream",
          "name": "stdout",
          "text": [
            "1\n",
            "2\n",
            "5\n",
            "7\n",
            "9\n",
            "New Array array('i', [1, 2, 5, 7, 9, 3])\n",
            "array('i', [3, 9, 7, 5, 2, 1])\n",
            "4\n",
            "6\n",
            "Current memory address and the length in elements of the buffer: (140638984185728, 6)\n",
            "The size of the memory buffer in bytes: 24\n",
            "3\n",
            "array('i', [1, 2, 3, 5, 7, 9, 3, 99, 3, 1, 2, 3, 5, 7, 9, 3, 99, 3])\n",
            "b'\\x01\\x00\\x00\\x00\\x02\\x00\\x00\\x00\\x03\\x00\\x00\\x00\\x05\\x00\\x00\\x00\\x07\\x00\\x00\\x00\\t\\x00\\x00\\x00\\x03\\x00\\x00\\x00c\\x00\\x00\\x00\\x03\\x00\\x00\\x00\\x01\\x00\\x00\\x00\\x02\\x00\\x00\\x00\\x03\\x00\\x00\\x00\\x05\\x00\\x00\\x00\\x07\\x00\\x00\\x00\\t\\x00\\x00\\x00\\x03\\x00\\x00\\x00c\\x00\\x00\\x00\\x03\\x00\\x00\\x00'\n",
            "array('i', [1, 2, 3, 4, 5, 6, 7, 8, 9, 3, 99, 3])\n",
            "array('i', [1, 99, 2, 3, 5, 7, 9, 3, 99, 3, 1, 2, 3, 5, 7, 9, 3, 99, 3])\n",
            "array('i', [1, 99, 3, 5, 7, 9, 3, 99, 3, 1, 2, 3, 5, 7, 9, 3, 99, 3])\n",
            "[1, 2, 4, 5, 6, 7, 8, 9, 3, 99, 3]\n",
            "[1, 99, 3, 5, 7, 9, 3, 99, 3, 1, 2, 3, 5, 7, 9, 3, 99, 3]\n",
            "False\n",
            "True\n",
            "True\n",
            "4\n",
            "-1\n",
            "1\n",
            "True\n",
            "False\n",
            "Original array: [1, 2, 3, 4, 7, 0, 8, 4]\n",
            "Maximum product pair is: (7, 8)\n",
            "\n",
            "Original array: [0, -1, -2, -4, 5, 0, -6]\n",
            "Maximum product pair is: (-4, -6)\n",
            "1\n",
            "2\n",
            "3\n",
            "4\n",
            "5\n",
            "9\n",
            "99\n",
            "(140638984196144, 2)\n",
            "2\n",
            "4\n",
            "array1: array('i', [7, 8, 9, 10])\n",
            "Bytes: b'0700000008000000090000000a000000'\n",
            "array2: array('i', [7, 8, 9, 10])\n",
            "Original array:\n",
            "1 3 5 1 3 7 9 \n",
            "After removing duplicate elements from the said array:\n",
            "1 3 5 7 9 \n",
            "Original array:\n",
            "2 4 2 6 4 8 \n",
            "After removing duplicate elements from the said array:\n",
            "2 4 6 8 Original array:\n",
            "10 11 12 13 14 16 17 18 19 20 \n",
            "Missing number in the said array (10-20):  15\n",
            "\n",
            "Original array:\n",
            "10 11 12 13 14 15 16 17 18 19 \n",
            "Missing number in the said array (10-20):  20\n"
          ]
        }
      ]
    },
    {
      "cell_type": "code",
      "source": [
        "n = int(input(\"Enter number of words: \"))\n",
        "words = []\n",
        "for i in range(n):\n",
        "    words.append(input())\n",
        "\n",
        "longest_word = words[0]\n",
        "for word in words:\n",
        "    if len(word) > len(longest_word):\n",
        "        longest_word = word\n",
        "\n",
        "print(\"The word with the longest length is:\", longest_word)\n"
      ],
      "metadata": {
        "colab": {
          "base_uri": "https://localhost:8080/"
        },
        "id": "XX3bdYk6eOe6",
        "outputId": "2df230b3-b817-4cc5-a623-e6f5b3372544"
      },
      "execution_count": null,
      "outputs": [
        {
          "output_type": "stream",
          "name": "stdout",
          "text": [
            "Enter number of words: 5\n",
            "ROHIT\n",
            "VIRAT\n",
            "SHAHRUKH KHAN\n",
            "PRIYANSHU SHARMA\n",
            "ROBERT DOWNEY JUNIOR\n",
            "The word with the longest length is: ROBERT DOWNEY JUNIOR\n"
          ]
        }
      ]
    },
    {
      "cell_type": "code",
      "source": [
        "# Input number of currencies\n",
        "n=int(input(\"Enter Number of Currencies: \"))\n",
        "\n",
        "# Create an empty set\n",
        "currencies=set()\n",
        "\n",
        "# Iterate through the inputted country names\n",
        "for i in range(n):\n",
        "    country=input(\"Enter the name of the country: \")\n",
        "    # Add the country name to the set\n",
        "    currencies.add(country)\n",
        "\n",
        "# Print the size of the set, which is the total number of distinct country currencies\n",
        "print(\"Total number of distinct country currencies:\",len(currencies))\n",
        "\n"
      ],
      "metadata": {
        "colab": {
          "base_uri": "https://localhost:8080/"
        },
        "id": "12wzGyl_5Fqu",
        "outputId": "fcc9d0db-7175-4197-ee61-447e99d1b8ec"
      },
      "execution_count": null,
      "outputs": [
        {
          "output_type": "stream",
          "name": "stdout",
          "text": [
            "Enter Number of Currencies: 3\n",
            "Enter the name of the country: India\n",
            "Enter the name of the country: USA\n",
            "Enter the name of the country: Japan\n",
            "Total number of distinct country currencies: 3\n"
          ]
        }
      ]
    },
    {
      "cell_type": "code",
      "source": [
        "# Initial data\n",
        "employees = {\n",
        "    \"Sunny\": (25000, False),\n",
        "    \"Ravi\": (23000, False),\n",
        "    \"Vijay\": (26000, False),\n",
        "    \"Messi\": (30000, False)\n",
        "}\n",
        "\n",
        "# Update employee data\n",
        "name = input(\"Enter the employee name: \")\n",
        "employees[name] = (employees[name][0], True)\n",
        "\n",
        "# Output all employee data\n",
        "for employee, data in employees.items():\n",
        "    print(employee, data[0], \"Resigned:\", data[1])\n"
      ],
      "metadata": {
        "colab": {
          "base_uri": "https://localhost:8080/"
        },
        "id": "ULpuNTSN50LI",
        "outputId": "fbcf0368-ea72-429d-9897-6b4d92491d81"
      },
      "execution_count": null,
      "outputs": [
        {
          "output_type": "stream",
          "name": "stdout",
          "text": [
            "Enter the employee name: Ravi\n",
            "Sunny 25000 Resigned: False\n",
            "Ravi 23000 Resigned: True\n",
            "Vijay 26000 Resigned: False\n",
            "Messi 30000 Resigned: False\n"
          ]
        }
      ]
    },
    {
      "cell_type": "code",
      "source": [
        "def check_key(dictionary, key):\n",
        "    if key in dictionary:\n",
        "        print(f'\"{key}\" exists in the dictionary.')\n",
        "    else:\n",
        "        print(f'\"{key}\" does not exist in the dictionary.')\n",
        "\n",
        "# example usage\n",
        "my_dict = {'name': 'John', 'age': 30, 'city': 'New York'}\n",
        "check_key(my_dict, 'name')  # Output: \"name\" exists in the dictionary.\n",
        "check_key(my_dict, 'gender') # Output: \"gender\" does not exist in the dictionary.\n"
      ],
      "metadata": {
        "colab": {
          "base_uri": "https://localhost:8080/"
        },
        "id": "2KCcKTYd6O8X",
        "outputId": "ba12c3c6-4dca-45d6-9751-22fd8895bacb"
      },
      "execution_count": null,
      "outputs": [
        {
          "output_type": "stream",
          "name": "stdout",
          "text": [
            "\"name\" exists in the dictionary.\n",
            "\"gender\" does not exist in the dictionary.\n"
          ]
        }
      ]
    },
    {
      "cell_type": "code",
      "source": [
        "import statistics\n",
        "\n",
        "def quiz_analysis():\n",
        "    marks = list(map(int, input(\"Enter the marks scored by 7 students in the class: \").split()))\n",
        "    mean = statistics.mean(marks)\n",
        "    std_dev = statistics.stdev(marks)\n",
        "    print(f'Mean is: {mean}')\n",
        "    print(f'Standard Deviation is: {std_dev}')\n",
        "\n",
        "quiz_analysis()\n"
      ],
      "metadata": {
        "colab": {
          "base_uri": "https://localhost:8080/"
        },
        "id": "GOZjvycd6mPE",
        "outputId": "9a2d8c95-3967-45d1-f313-bcbb3b29a4d7"
      },
      "execution_count": null,
      "outputs": [
        {
          "output_type": "stream",
          "name": "stdout",
          "text": [
            "Enter the marks scored by 7 students in the class: 70 80 85 90 95\n",
            "Mean is: 84\n",
            "Standard Deviation is: 9.617692030835672\n"
          ]
        }
      ]
    },
    {
      "cell_type": "code",
      "source": [
        "#Find the average of five different subject marks. Sample Input:  Subject 1: 66 Subject 2: 77 Subject 3: 88 Subject 4: 99 Subject 5: 55 Sample Output:  77\n",
        "a=66\n",
        "b=77\n",
        "c=88\n",
        "d=99\n",
        "m=55\n",
        "sum=a+b+c+d+m\n",
        "avg=sum/5\n",
        "print(avg)\n",
        "\n",
        "#Convert the temperature in celsius to fahrenheit.  Sample Input:  Celsius = 30   Sample Output: 86\n",
        "celsius = 30\n",
        "fahrenheit = (celsius * 1.8) + 32\n",
        "print(str(celsius )+ \" degree Celsius is equal to \" + str(fahrenheit )+ \" degree Fahrenheit.\")\n",
        "\n",
        "\n",
        "\n",
        "#Write a program to do exchange of two numbers using addition and subtraction without using temporary variables. Sample Input:  a=150 b=270 Sample Output: a=270 b=150\n",
        "a = 150\n",
        "b = 270\n",
        " \n",
        "# Code to swap 'a' and 'b'\n",
        "\n",
        "a = a + b\n",
        " \n",
        "\n",
        "b = a - b\n",
        " \n",
        "\n",
        "a = a - b\n",
        "print(\"After Swapping: a =\", a, \" b =\", b)\n",
        "\n",
        "\n",
        "\n",
        "#Write a program to do exchange of two numbers using bitwise operators. Sample Input:  a=150 b=270 Sample Output: a=270 b=150\n",
        "a = 150\n",
        "b = 270\n",
        " \n",
        "# Code to swap 'a' and 'b'\n",
        "a = a ^ b; \n",
        "b = a ^ b; \n",
        "a = a ^ b; \n",
        " \n",
        "print (\"After Swapping: a = \", a, \" b =\", b)\n",
        "\n",
        "\n",
        "\n",
        "\n",
        "#Find the given number is even. Sample Input:  a=100 \n",
        "num = int(input(\"Enter a number: \"))\n",
        "mod = num % 2\n",
        "if mod > 0:\n",
        "    print(\"This is an odd number.\")\n",
        "else:\n",
        "    print(\"This is an even number.\")\n",
        "\n",
        "\n",
        "#Print the last digit of the given number.\n",
        "n=256 \n",
        "\n",
        "last_digit = int(repr(n)[-1])\n",
        "\n",
        "print(f\"The last digit of {n} is {last_digit}\")   \n",
        "\n",
        "\n",
        "\n",
        "#Verify the given number is divisible by 5\n",
        "def isDivisibleBy5(a) :\n",
        "    n = len(a)\n",
        "    return ( (a[n-1] == '0') or\n",
        "           (a[n-1] == '5'))\n",
        "  \n",
        "a = \"50\"\n",
        "if isDivisibleBy5(a) :\n",
        "    print (\"Yes\")\n",
        "else :\n",
        "    print (\"No\")\n",
        "#Write a Python program to compute the profit in percentage?\n",
        "cost,interior_decoration,selling_price = map(int,input(\"Enter cost, interior decoration, selling price: \").split())\n",
        "profit = (selling_price-cost-interior_decoration)/cost*100\n",
        "print(\"The profit is:\", profit)\n",
        "\n"
      ],
      "metadata": {
        "colab": {
          "base_uri": "https://localhost:8080/",
          "height": 450
        },
        "id": "qi8vEqB9Vh79",
        "outputId": "a3dd9dbc-3dd8-48e6-ec55-1f635fe1b621"
      },
      "execution_count": null,
      "outputs": [
        {
          "output_type": "stream",
          "name": "stdout",
          "text": [
            "77.0\n",
            "30 degree Celsius is equal to 86.0 degree Fahrenheit.\n",
            "After Swapping: a = 270  b = 150\n",
            "After Swapping: a =  270  b = 150\n"
          ]
        },
        {
          "output_type": "error",
          "ename": "KeyboardInterrupt",
          "evalue": "ignored",
          "traceback": [
            "\u001b[0;31m---------------------------------------------------------------------------\u001b[0m",
            "\u001b[0;31mKeyboardInterrupt\u001b[0m                         Traceback (most recent call last)",
            "\u001b[0;32m<ipython-input-23-483735586b58>\u001b[0m in \u001b[0;36m<module>\u001b[0;34m\u001b[0m\n\u001b[1;32m     48\u001b[0m \u001b[0;34m\u001b[0m\u001b[0m\n\u001b[1;32m     49\u001b[0m \u001b[0;31m#Find the given number is even. Sample Input:  a=100\u001b[0m\u001b[0;34m\u001b[0m\u001b[0;34m\u001b[0m\u001b[0;34m\u001b[0m\u001b[0m\n\u001b[0;32m---> 50\u001b[0;31m \u001b[0mnum\u001b[0m \u001b[0;34m=\u001b[0m \u001b[0mint\u001b[0m\u001b[0;34m(\u001b[0m\u001b[0minput\u001b[0m\u001b[0;34m(\u001b[0m\u001b[0;34m\"Enter a number: \"\u001b[0m\u001b[0;34m)\u001b[0m\u001b[0;34m)\u001b[0m\u001b[0;34m\u001b[0m\u001b[0;34m\u001b[0m\u001b[0m\n\u001b[0m\u001b[1;32m     51\u001b[0m \u001b[0mmod\u001b[0m \u001b[0;34m=\u001b[0m \u001b[0mnum\u001b[0m \u001b[0;34m%\u001b[0m \u001b[0;36m2\u001b[0m\u001b[0;34m\u001b[0m\u001b[0;34m\u001b[0m\u001b[0m\n\u001b[1;32m     52\u001b[0m \u001b[0;32mif\u001b[0m \u001b[0mmod\u001b[0m \u001b[0;34m>\u001b[0m \u001b[0;36m0\u001b[0m\u001b[0;34m:\u001b[0m\u001b[0;34m\u001b[0m\u001b[0;34m\u001b[0m\u001b[0m\n",
            "\u001b[0;32m/usr/local/lib/python3.8/dist-packages/ipykernel/kernelbase.py\u001b[0m in \u001b[0;36mraw_input\u001b[0;34m(self, prompt)\u001b[0m\n\u001b[1;32m    858\u001b[0m                 \u001b[0;34m\"raw_input was called, but this frontend does not support input requests.\"\u001b[0m\u001b[0;34m\u001b[0m\u001b[0;34m\u001b[0m\u001b[0m\n\u001b[1;32m    859\u001b[0m             )\n\u001b[0;32m--> 860\u001b[0;31m         return self._input_request(str(prompt),\n\u001b[0m\u001b[1;32m    861\u001b[0m             \u001b[0mself\u001b[0m\u001b[0;34m.\u001b[0m\u001b[0m_parent_ident\u001b[0m\u001b[0;34m,\u001b[0m\u001b[0;34m\u001b[0m\u001b[0;34m\u001b[0m\u001b[0m\n\u001b[1;32m    862\u001b[0m             \u001b[0mself\u001b[0m\u001b[0;34m.\u001b[0m\u001b[0m_parent_header\u001b[0m\u001b[0;34m,\u001b[0m\u001b[0;34m\u001b[0m\u001b[0;34m\u001b[0m\u001b[0m\n",
            "\u001b[0;32m/usr/local/lib/python3.8/dist-packages/ipykernel/kernelbase.py\u001b[0m in \u001b[0;36m_input_request\u001b[0;34m(self, prompt, ident, parent, password)\u001b[0m\n\u001b[1;32m    902\u001b[0m             \u001b[0;32mexcept\u001b[0m \u001b[0mKeyboardInterrupt\u001b[0m\u001b[0;34m:\u001b[0m\u001b[0;34m\u001b[0m\u001b[0;34m\u001b[0m\u001b[0m\n\u001b[1;32m    903\u001b[0m                 \u001b[0;31m# re-raise KeyboardInterrupt, to truncate traceback\u001b[0m\u001b[0;34m\u001b[0m\u001b[0;34m\u001b[0m\u001b[0;34m\u001b[0m\u001b[0m\n\u001b[0;32m--> 904\u001b[0;31m                 \u001b[0;32mraise\u001b[0m \u001b[0mKeyboardInterrupt\u001b[0m\u001b[0;34m(\u001b[0m\u001b[0;34m\"Interrupted by user\"\u001b[0m\u001b[0;34m)\u001b[0m \u001b[0;32mfrom\u001b[0m \u001b[0;32mNone\u001b[0m\u001b[0;34m\u001b[0m\u001b[0;34m\u001b[0m\u001b[0m\n\u001b[0m\u001b[1;32m    905\u001b[0m             \u001b[0;32mexcept\u001b[0m \u001b[0mException\u001b[0m \u001b[0;32mas\u001b[0m \u001b[0me\u001b[0m\u001b[0;34m:\u001b[0m\u001b[0;34m\u001b[0m\u001b[0;34m\u001b[0m\u001b[0m\n\u001b[1;32m    906\u001b[0m                 \u001b[0mself\u001b[0m\u001b[0;34m.\u001b[0m\u001b[0mlog\u001b[0m\u001b[0;34m.\u001b[0m\u001b[0mwarning\u001b[0m\u001b[0;34m(\u001b[0m\u001b[0;34m\"Invalid Message:\"\u001b[0m\u001b[0;34m,\u001b[0m \u001b[0mexc_info\u001b[0m\u001b[0;34m=\u001b[0m\u001b[0;32mTrue\u001b[0m\u001b[0;34m)\u001b[0m\u001b[0;34m\u001b[0m\u001b[0;34m\u001b[0m\u001b[0m\n",
            "\u001b[0;31mKeyboardInterrupt\u001b[0m: Interrupted by user"
          ]
        }
      ]
    },
    {
      "cell_type": "code",
      "source": [
        "cost=int(input(\"Enter cost: \"))\n",
        "interior_decoration_cost=int(input(\"Enter interior decoration cost: \"))\n",
        "selling_price=int(input(\"Enter selling price: \"))\n",
        "profit = (selling_price-cost-interior_decoration_cost)/cost*100\n",
        "print(\"The profit is:\",profit,\"%\")\n"
      ],
      "metadata": {
        "colab": {
          "base_uri": "https://localhost:8080/"
        },
        "id": "jDOmDEV2gouJ",
        "outputId": "a0ccad3b-b601-435a-dd90-a896604af727"
      },
      "execution_count": null,
      "outputs": [
        {
          "output_type": "stream",
          "name": "stdout",
          "text": [
            "Enter cost: 1000000\n",
            "Enter interior decoration cost: 10000\n",
            "Enter selling price: 5000000\n",
            "The profit is: 399.0 %\n"
          ]
        }
      ]
    },
    {
      "cell_type": "code",
      "source": [
        "units=int(input(\"Enter number of units of effort: \"))\n",
        "hours=units//3600\n",
        "remaining_units=units%3600\n",
        "minutes=remaining_units//60\n",
        "seconds=remaining_units%60\n",
        "print(\"Hours:\", hours)\n",
        "print(\"Minutes:\", minutes)\n",
        "print(\"Seconds:\", seconds)\n"
      ],
      "metadata": {
        "colab": {
          "base_uri": "https://localhost:8080/"
        },
        "id": "B3lL3hyeieqq",
        "outputId": "c199ea5f-a84e-470d-c844-8130f31d6382"
      },
      "execution_count": null,
      "outputs": [
        {
          "output_type": "stream",
          "name": "stdout",
          "text": [
            "Enter number of units of effort: 45678\n",
            "Hours: 12\n",
            "Minutes: 41\n",
            "Seconds: 18\n"
          ]
        }
      ]
    },
    {
      "cell_type": "code",
      "source": [
        "distance=int(input(\"Enter distance in Km: \"))\n",
        "time=int(input(\"Enter time in hours: \"))\n",
        "speed=distance/time\n",
        "print(\"The speed of the car in Km/hr is: \", speed)\n"
      ],
      "metadata": {
        "colab": {
          "base_uri": "https://localhost:8080/"
        },
        "id": "JH2clfSXjDna",
        "outputId": "3d23bcfc-d1b4-4e59-d9f2-84b464c362d3"
      },
      "execution_count": null,
      "outputs": [
        {
          "output_type": "stream",
          "name": "stdout",
          "text": [
            "Enter distance in Km: 56\n",
            "Enter time in hours: 4\n",
            "The speed of the car in Km/hr is:  14.0\n"
          ]
        }
      ]
    },
    {
      "cell_type": "code",
      "source": [
        "import math\n",
        "width=int(input(\"Enter width: \"))\n",
        "height=int(input(\"Enter height: \"))\n",
        "hypotenuse=math.sqrt(width**2+height**2)\n",
        "area=(width*height)/2\n",
        "print(\"The third side of the triangle is: \", hypotenuse)\n",
        "print(\"Area of the right angled triangle is: \", area)\n"
      ],
      "metadata": {
        "colab": {
          "base_uri": "https://localhost:8080/"
        },
        "id": "OUTk_XeFkjfr",
        "outputId": "36cf48c9-77f1-4f3d-8447-171d48e57894"
      },
      "execution_count": null,
      "outputs": [
        {
          "output_type": "stream",
          "name": "stdout",
          "text": [
            "Enter width: 7\n",
            "Enter height: 8\n",
            "The third side of the triangle is:  10.63014581273465\n",
            "Area of the right angled triangle is:  28.0\n"
          ]
        }
      ]
    },
    {
      "cell_type": "code",
      "source": [
        "a=5\n",
        "b=4\n",
        "if(a & b >= 1)|(a^b <=1):\n",
        "  print(\"I win the game\") \n",
        "else:     \n",
        "  print(\"I lose the game\") "
      ],
      "metadata": {
        "colab": {
          "base_uri": "https://localhost:8080/"
        },
        "id": "OwUyG60jlO_c",
        "outputId": "a4d661a5-10d8-46e7-810a-2288acc996bc"
      },
      "execution_count": null,
      "outputs": [
        {
          "output_type": "stream",
          "name": "stdout",
          "text": [
            "I win the game\n"
          ]
        }
      ]
    },
    {
      "cell_type": "code",
      "source": [
        "a={\"State\":\"Capital\",\n",
        "\"India\":\"Delhi\",\n",
        "\"Madhya Pradesh\":\"Bhopal\",\n",
        "\"Bihar\":\"Patna\",\n",
        "\"Uttar Pradesh\":\"Lucknow\",\n",
        "\"Chhattisgarh\":\"Raipur\"\n",
        "}\n",
        "print(type(a),a)\n",
        "print(a[\"Madhya Pradesh\"])\n",
        "print(a[\"Bihar\"])\n",
        "\n",
        "print()\n",
        "#Add an element\n",
        "a[\"Rajasthan\"]=\"Jaipur\"\n",
        "print(a)\n",
        "\n",
        "a.update({\"West Bengal\":\"Kolkata\"})\n",
        "print(a)\n",
        "\n",
        "print()\n",
        "\n",
        "#Remove an element\n",
        "del a[\"Chhattisgarh\"]\n",
        "print(a)\n",
        "\n",
        "a.pop(\"Rajasthan\")\n",
        "print(a)\n",
        "\n",
        "\n",
        "#Set\n",
        "a={\"Priyanshu\",\"Ayush\",\"Dushyant\",\"Pratham\",\"Aditya\"}\n",
        "print(type(a),a)\n",
        "\n",
        "print()\n",
        "\n",
        "#Add an element\n",
        "a.add(\"Kush\")\n",
        "print(a)\n",
        "\n",
        "#Remove an element\n",
        "a.remove(\"Kush\")\n",
        "print(a)\n"
      ],
      "metadata": {
        "colab": {
          "base_uri": "https://localhost:8080/"
        },
        "id": "k-k2f9SicCPS",
        "outputId": "461aa155-1cf9-4cdf-90cf-b3da280f7dbe"
      },
      "execution_count": null,
      "outputs": [
        {
          "output_type": "stream",
          "name": "stdout",
          "text": [
            "<class 'dict'> {'State': 'Capital', 'India': 'Delhi', 'Madhya Pradesh': 'Bhopal', 'Bihar': 'Patna', 'Uttar Pradesh': 'Lucknow', 'Chhattisgarh': 'Raipur'}\n",
            "Bhopal\n",
            "Patna\n",
            "\n",
            "{'State': 'Capital', 'India': 'Delhi', 'Madhya Pradesh': 'Bhopal', 'Bihar': 'Patna', 'Uttar Pradesh': 'Lucknow', 'Chhattisgarh': 'Raipur', 'Rajasthan': 'Jaipur'}\n",
            "{'State': 'Capital', 'India': 'Delhi', 'Madhya Pradesh': 'Bhopal', 'Bihar': 'Patna', 'Uttar Pradesh': 'Lucknow', 'Chhattisgarh': 'Raipur', 'Rajasthan': 'Jaipur', 'West Bengal': 'Kolkata'}\n",
            "\n",
            "{'State': 'Capital', 'India': 'Delhi', 'Madhya Pradesh': 'Bhopal', 'Bihar': 'Patna', 'Uttar Pradesh': 'Lucknow', 'Rajasthan': 'Jaipur', 'West Bengal': 'Kolkata'}\n",
            "{'State': 'Capital', 'India': 'Delhi', 'Madhya Pradesh': 'Bhopal', 'Bihar': 'Patna', 'Uttar Pradesh': 'Lucknow', 'West Bengal': 'Kolkata'}\n",
            "<class 'set'> {'Dushyant', 'Pratham', 'Aditya', 'Priyanshu', 'Ayush'}\n",
            "\n",
            "{'Dushyant', 'Kush', 'Pratham', 'Aditya', 'Priyanshu', 'Ayush'}\n",
            "{'Dushyant', 'Pratham', 'Aditya', 'Priyanshu', 'Ayush'}\n"
          ]
        }
      ]
    },
    {
      "cell_type": "code",
      "source": [
        "#Tuples\n",
        "#Write  a python program to create a tuple\n",
        "fruits=(\"apple\",\"mango\",\"strawberry\")\n",
        "print(fruits)\n",
        "print(type(fruits))\n",
        "\n",
        "\n",
        "#Write a python program to create a tuple with numbers\n",
        "a=(10,9,5,4,2,99,100)\n",
        "print(type(a),a)\n",
        "\n",
        "\n",
        "#Write a python program to create using different different data types\n",
        "a=(1,99,9,4,5,\"Robdert Downey Junior\",\"Ironman\",9)\n",
        "print(type(a),a)\n",
        "\n",
        "print(len(a))\n",
        "print(a.count(9))\n",
        "print(list(a))\n",
        "#List\n",
        "#Create a list of 10 integers\n",
        "a=[1,2,3,4,5,6,7,8,9,10]\n",
        "print(type(a),a)\n",
        "\n",
        "print()\n",
        "\n",
        "a.append(99)\n",
        "print(a)\n",
        "\n",
        "print()\n",
        "#remove\n",
        "a.remove(2)\n",
        "print(a)\n",
        "\n",
        "#Insert\n",
        "a.insert(0,0)\n",
        "print(a)\n",
        "\n",
        "#delete\n",
        "del a[10]\n",
        "print(a)\n",
        "\n",
        "#reverse\n",
        "print(a[-1:0:-1])\n",
        "#Length\n",
        "print(len(a))\n",
        "#Slicing\n",
        "print(a[2:8])\n",
        "\n",
        "#sort\n",
        "print(sorted(a))\n",
        "\n",
        "#min and max\n",
        "print(min(a))\n",
        "print(max(a))\n",
        "\n",
        "#Convert list to tuple\n",
        "print(tuple(a))\n",
        "\n"
      ],
      "metadata": {
        "colab": {
          "base_uri": "https://localhost:8080/"
        },
        "id": "FHU0zW3qIV1j",
        "outputId": "b64ec619-1358-4f4f-ecec-9a86f4d65583"
      },
      "execution_count": null,
      "outputs": [
        {
          "output_type": "stream",
          "name": "stdout",
          "text": [
            "('apple', 'mango', 'strawberry')\n",
            "<class 'tuple'>\n",
            "<class 'tuple'> (10, 9, 5, 4, 2, 99, 100)\n",
            "<class 'tuple'> (1, 99, 9, 4, 5, 'Robdert Downey Junior', 'Ironman', 9)\n",
            "8\n",
            "2\n",
            "[1, 99, 9, 4, 5, 'Robdert Downey Junior', 'Ironman', 9]\n",
            "<class 'list'> [1, 2, 3, 4, 5, 6, 7, 8, 9, 10]\n",
            "\n",
            "[1, 2, 3, 4, 5, 6, 7, 8, 9, 10, 99]\n",
            "\n",
            "[1, 3, 4, 5, 6, 7, 8, 9, 10, 99]\n",
            "[0, 1, 3, 4, 5, 6, 7, 8, 9, 10, 99]\n",
            "[0, 1, 3, 4, 5, 6, 7, 8, 9, 10]\n",
            "[10, 9, 8, 7, 6, 5, 4, 3, 1]\n",
            "10\n",
            "[3, 4, 5, 6, 7, 8]\n",
            "[0, 1, 3, 4, 5, 6, 7, 8, 9, 10]\n",
            "0\n",
            "10\n",
            "(0, 1, 3, 4, 5, 6, 7, 8, 9, 10)\n"
          ]
        }
      ]
    },
    {
      "cell_type": "code",
      "source": [
        "import array as arr\n",
        "a=arr.array('i',[2,4,6,8])\n",
        "print(\"First element\",a[0])\n",
        "print(\"Second element\",a[1])\n",
        "print(\"Last element\",a[-1])\n",
        "print(len(a))\n",
        "\n",
        "print()\n",
        "\n",
        "import array as arr\n",
        "a=arr.array('i',[10,22,30,9,99])\n",
        "print(\"First element  \",a[0])\n",
        "print(\"Second element \",a[1])\n",
        "print(\"Third element  \",a[2])\n",
        "print(\"Fourth element \",a[3])\n",
        "print(\"Fifth element  \",a[4])\n",
        "print(\"Last element   \",a[-1])\n",
        "print(len(a))\n",
        "\n",
        "\n",
        "print()\n",
        "\n",
        "import array as arr\n",
        "#from array import*\n",
        "#append,add,remove,delete,insert,extend\n",
        "a=arr.array('i',[1,2,4,5,9])\n",
        "a.append(8)#append\n",
        "print(a)\n",
        "\n",
        "a.remove(5)\n",
        "print(a)#remove\n",
        "\n",
        "a.extend([6,10])\n",
        "print(a)#extend\n",
        "\n",
        "\n",
        "a.insert(99,100)#insert\n",
        "print(a)\n",
        "\n",
        "\n",
        "print()\n",
        "\n",
        "\n",
        "\n",
        "#Print multiples of 5 using array\n",
        "from array import*\n",
        "array1=array('i',[5,10,15,20,25,30,35,40,45,50])\n",
        "for x in array1:\n",
        "  print(x)\n",
        "\n",
        "\n",
        "print()  \n",
        "\n",
        "#Accessing Array Element \n",
        "print(array1[0]) \n",
        "print(array1[1])\n",
        "print(array1[2])\n",
        "print(array1[-1])\n",
        "\n",
        "\n",
        "print()\n",
        "\n",
        "\n",
        "#Insertion Operation\n",
        "from array import*\n",
        "array1=array('i',[5,10,15,20,25,30,35,40,45,50])\n",
        "array1.insert(1,90)\n",
        "for x in array1:\n",
        "    print(x)\n",
        "\n",
        "array1.insert(-1,100)\n",
        "for x in array1:\n",
        "  print(x)\n",
        "\n",
        "array1.insert(9,99)  \n",
        "for x in array1:\n",
        "  print(x)\n",
        "array1.insert(4,200)  \n",
        "for x in array1:\n",
        "  print(\"Insertion operation\",x)\n",
        "\n",
        "print()   \n",
        "\n",
        "#Deletion Operation\n",
        "array1.remove(90)\n",
        "for x in array1:\n",
        "  print(\"deletion operation\",x) \n",
        "\n",
        "\n",
        "print()\n",
        "\n",
        "\n",
        "#Search Operation\n",
        "print(\"search operation\",array1.index(40))  \n",
        "print(array1.index(50))\n",
        "print(array1.index(10))\n",
        "\n",
        "#Update Operation\n",
        "array1[2]=80\n",
        "for x in array1:\n",
        "  print(\"update operation\",x)\n",
        "\n",
        "\n",
        "\n"
      ],
      "metadata": {
        "colab": {
          "base_uri": "https://localhost:8080/"
        },
        "id": "j0IuNGRNKrHa",
        "outputId": "f3921243-4fd8-47ea-dcce-876e809b92df"
      },
      "execution_count": null,
      "outputs": [
        {
          "output_type": "stream",
          "name": "stdout",
          "text": [
            "First element 2\n",
            "Second element 4\n",
            "Last element 8\n",
            "4\n",
            "\n",
            "First element   10\n",
            "Second element  22\n",
            "Third element   30\n",
            "Fourth element  9\n",
            "Fifth element   99\n",
            "Last element    99\n",
            "5\n",
            "\n",
            "array('i', [1, 2, 4, 5, 9, 8])\n",
            "array('i', [1, 2, 4, 9, 8])\n",
            "array('i', [1, 2, 4, 9, 8, 6, 10])\n",
            "array('i', [1, 2, 4, 9, 8, 6, 10, 100])\n",
            "\n",
            "5\n",
            "10\n",
            "15\n",
            "20\n",
            "25\n",
            "30\n",
            "35\n",
            "40\n",
            "45\n",
            "50\n",
            "\n",
            "5\n",
            "10\n",
            "15\n",
            "50\n",
            "\n",
            "5\n",
            "90\n",
            "10\n",
            "15\n",
            "20\n",
            "25\n",
            "30\n",
            "35\n",
            "40\n",
            "45\n",
            "50\n",
            "5\n",
            "90\n",
            "10\n",
            "15\n",
            "20\n",
            "25\n",
            "30\n",
            "35\n",
            "40\n",
            "45\n",
            "100\n",
            "50\n",
            "5\n",
            "90\n",
            "10\n",
            "15\n",
            "20\n",
            "25\n",
            "30\n",
            "35\n",
            "40\n",
            "99\n",
            "45\n",
            "100\n",
            "50\n",
            "Insertion operation 5\n",
            "Insertion operation 90\n",
            "Insertion operation 10\n",
            "Insertion operation 15\n",
            "Insertion operation 200\n",
            "Insertion operation 20\n",
            "Insertion operation 25\n",
            "Insertion operation 30\n",
            "Insertion operation 35\n",
            "Insertion operation 40\n",
            "Insertion operation 99\n",
            "Insertion operation 45\n",
            "Insertion operation 100\n",
            "Insertion operation 50\n",
            "\n",
            "deletion operation 5\n",
            "deletion operation 10\n",
            "deletion operation 15\n",
            "deletion operation 200\n",
            "deletion operation 20\n",
            "deletion operation 25\n",
            "deletion operation 30\n",
            "deletion operation 35\n",
            "deletion operation 40\n",
            "deletion operation 99\n",
            "deletion operation 45\n",
            "deletion operation 100\n",
            "deletion operation 50\n",
            "\n",
            "search operation 8\n",
            "12\n",
            "1\n",
            "update operation 5\n",
            "update operation 10\n",
            "update operation 80\n",
            "update operation 200\n",
            "update operation 20\n",
            "update operation 25\n",
            "update operation 30\n",
            "update operation 35\n",
            "update operation 40\n",
            "update operation 99\n",
            "update operation 45\n",
            "update operation 100\n",
            "update operation 50\n"
          ]
        }
      ]
    },
    {
      "cell_type": "code",
      "source": [
        "#Module-4\n",
        "import cmath\n",
        "#Solve the quadratic equation ax**2 + bx + c = 0\n",
        "a=1\n",
        "b=4\n",
        "c=5\n",
        "#calculate the discriminant\n",
        "d=(b**2)-(4*a*c)\n",
        "#Find two solutions\n",
        "sol1=(-b-cmath.sqrt(d))/(2*a)\n",
        "sol2=(-b+cmath.sqrt(d))/(2*a)\n",
        "print(\"The solutions of {0} and {1} are\",(sol1,sol2))\n",
        "\n",
        "\n",
        "\n",
        "print()\n",
        "\n",
        "#Find the square root of a number\n",
        "a=float(input(\"Enter the number whose square root is to be find \"))\n",
        "print(\"The square root ot the number is\",cmath.sqrt(a))\n"
      ],
      "metadata": {
        "colab": {
          "base_uri": "https://localhost:8080/"
        },
        "id": "LGU3-t-kw6zD",
        "outputId": "b1389f28-ec8a-412d-f34d-ff234723642a"
      },
      "execution_count": null,
      "outputs": [
        {
          "output_type": "stream",
          "name": "stdout",
          "text": [
            "The solutions of {0} and {1} are ((-2-1j), (-2+1j))\n",
            "\n",
            "Enter the number whose square root is to be find 25\n",
            "The square root ot the number is (5+0j)\n"
          ]
        }
      ]
    },
    {
      "cell_type": "code",
      "source": [
        "n=23 #Factorial of a number\n",
        "fact=1\n",
        "for i in range(1,n+1):\n",
        "   fact=fact*i\n",
        "print (fact)\n",
        "\n",
        "\n",
        "n=9\n",
        "fact=1\n",
        "for i in range (1,n+1):\n",
        "  fact=fact*i\n",
        "print(fact)  \n",
        "\n",
        "\n",
        "n=5\n",
        "fact=1\n",
        "for i in range (1,n+1):\n",
        "  fact=fact*i\n",
        "print(fact)\n",
        "\n",
        "\n",
        "import math\n",
        "print(math.factorial(23))\n",
        "\n",
        "import math\n",
        "print(math.factorial(9))\n",
        "\n",
        "import math\n",
        "print(math.factorial(1))\n",
        "\n",
        "\n"
      ],
      "metadata": {
        "colab": {
          "base_uri": "https://localhost:8080/"
        },
        "id": "VwiXl3FaC1nH",
        "outputId": "9f0e6cf6-11d3-4535-cc3e-1b8bc266dcf7"
      },
      "execution_count": null,
      "outputs": [
        {
          "output_type": "stream",
          "name": "stdout",
          "text": [
            "25852016738884976640000\n",
            "362880\n",
            "120\n",
            "25852016738884976640000\n",
            "362880\n",
            "1\n"
          ]
        }
      ]
    },
    {
      "cell_type": "code",
      "source": [
        "def factorial (x):#Factorial\n",
        "  if x==1:\n",
        "   return 1\n",
        "  else:\n",
        "   return (x*factorial(x-1))\n",
        "print(factorial(7))\n",
        "\n",
        "import math\n",
        "print(math.factorial(7))\n",
        "\n",
        "\n",
        "def apple(a):\n",
        "  factorial=1\n",
        "  if  a<0:\n",
        "    print(\"The factorial of negative is  not possible\")\n",
        "  elif a==0:\n",
        "      print(\"Factorial of 0 is 1\")\n",
        "  else:\n",
        "   for i in range(1,a+1):\n",
        "    factorial=factorial*i\n",
        "  print(factorial)\n",
        "apple(7)\n",
        "\n",
        "\n",
        "n=7\n",
        "fact=1\n",
        "for i in range(1,n+1):\n",
        " fact=fact*i\n",
        "print(fact)\n",
        "\n",
        " \n",
        "\n",
        "\n"
      ],
      "metadata": {
        "colab": {
          "base_uri": "https://localhost:8080/"
        },
        "id": "pEpRJe6wTC1z",
        "outputId": "abc10ac5-5765-4a18-c6f5-f3f767cfd537"
      },
      "execution_count": null,
      "outputs": [
        {
          "output_type": "stream",
          "name": "stdout",
          "text": [
            "5040\n",
            "5040\n",
            "5040\n",
            "5040\n"
          ]
        }
      ]
    },
    {
      "cell_type": "code",
      "source": [
        "def adding():\n",
        "  a=10\n",
        "  b=20\n",
        "  sum=a+b\n",
        "  print(\"After calling\",sum)\n",
        "adding()\n",
        "\n",
        "\n",
        "def area():#Find area of a circle without argument and return type\n",
        "  a=2\n",
        "  b=3.14\n",
        "  multiply=b*a*2\n",
        "  print(\"area\",multiply)\n",
        "area()\n",
        "\n",
        "def area():\n",
        "  a=4\n",
        "  b=3.14\n",
        "  multi=b*a*2\n",
        "  \n",
        "  return multi\n",
        "print(\"area\",area())\n",
        "\n",
        "\n",
        "def area():#Without argument and with return value (area of a rectangle)\n",
        "  a=4\n",
        "  b=6\n",
        "  multi=a*b\n",
        "  return multi\n",
        "print(\"area of a \",area()) \n",
        "\n",
        "def p(a,b):#With argument and without return \n",
        "  multi=a*b\n",
        "  print(multi)\n",
        "p(4,6)  \n",
        "  \n",
        "\n",
        "def priyanshu(a,b) :#With argument and with return\n",
        "  sum=a+b \n",
        "  return sum\n",
        "print(\"Priyanshu\",priyanshu(4,5))\n",
        "\n",
        "\n",
        "\n",
        "#perimeter of a circle with arguement and no return \n",
        "def  a(p,s):\n",
        "  multi=2*p*s\n",
        "  print(\"Perimter of area:\",multi)\n",
        "a(4,3.14)\n",
        "\n",
        "#perimeter of a rectangle with arguement and return\n",
        "def a(p,s):\n",
        "  sum=p+s\n",
        "  return sum\n",
        "print(\"Perimeter of rectangle:\",a(4,5))\n",
        "    \n",
        "#yes yes \n",
        "#no no\n",
        "#yes no\n",
        "#no yes\n"
      ],
      "metadata": {
        "colab": {
          "base_uri": "https://localhost:8080/"
        },
        "id": "AUM5bXfZsg2i",
        "outputId": "48da0e1d-1f82-4b55-ef42-d81c4641e105"
      },
      "execution_count": null,
      "outputs": [
        {
          "output_type": "stream",
          "name": "stdout",
          "text": [
            "After calling 30\n",
            "area 12.56\n",
            "area 25.12\n",
            "area of a  24\n",
            "24\n",
            "Priyanshu 9\n",
            "Perimter of area: 25.12\n",
            "Perimeter of rectangle: 9\n"
          ]
        }
      ]
    },
    {
      "cell_type": "code",
      "source": [
        "#Python Functions \n",
        "\n",
        "def my_function(fname, lname):\n",
        "  print(fname + \" \" + lname)\n",
        "\n",
        "my_function(\"Priyanshu\", \"Sharma\")\n",
        "\n",
        "\n",
        "def apple(p,s):\n",
        " print(p+\" \"+s)\n",
        "apple(\"9\",\"5\")\n",
        "def a(Rdj,Tony):\n",
        " print(\"Hi\"+\" \"+Rdj+\" \"+Tony)\n",
        "a(\"Robert Downey Junior\",\"Love you 3000\")\n",
        "\n",
        "\n",
        "\n",
        "def hello(country=\"India\"):\n",
        " print(country)\n",
        "hello(\"Russia\") \n",
        "hello(\"Paris\")\n",
        "hello()\n",
        "hello(\"New York\")"
      ],
      "metadata": {
        "colab": {
          "base_uri": "https://localhost:8080/"
        },
        "id": "1av2ovTjO2e9",
        "outputId": "9460f160-0a25-4a60-a08d-2ba7c958c104"
      },
      "execution_count": null,
      "outputs": [
        {
          "output_type": "stream",
          "name": "stdout",
          "text": [
            "Priyanshu Sharma\n",
            "9 5\n",
            "Hi Robert Downey Junior Love you 3000\n",
            "Russia\n",
            "Paris\n",
            "India\n",
            "New York\n"
          ]
        }
      ]
    },
    {
      "cell_type": "code",
      "source": [
        "#List\n",
        "a=[\"apple\",\"banana\",\"mango\",100,9]\n",
        "print(type(a),a)\n",
        "print(len(a))\n",
        "\n",
        "a=[]\n",
        "print(a)\n",
        "\n",
        "a=[\"Priyanshu\" ,9]\n",
        "b=[\"Sharma\"]\n",
        "c=a+b\n",
        "print(type(c),c)\n",
        "print(len(a))\n",
        "\n",
        "a=[\"Name :\" \"Priyanshu Sharma\"]\n",
        "b=[\"Register :\" \"22BHI10063\"]\n",
        "C=[\"Branch:\" \"CSE-BHI\"]\n",
        "p=[\"University :\"\"VIT Bhopal\"]\n",
        "s=[\"Address :\" \"Bhopal-Indore Expressway Kothri Kalan Sehore Madhya Pradesh 466114\"]\n",
        "print(a,b,c,p,s)\n",
        "\n",
        "\n",
        "print(p[0::])\n",
        "print(b[14::])\n",
        "s=[\"Address :\" \"Bhopal-Indore Expressway Kothri Kalan Sehore Madhya Pradesh 466114\"]\n",
        "print(s[0::5])\n",
        "s=[\"Address :\" \"Bhopal-Indore Expressway Kothri Kalan Sehore Madhya Pradesh 466114\"]\n",
        "print(s[-1::-1])\n",
        "\n"
      ],
      "metadata": {
        "colab": {
          "base_uri": "https://localhost:8080/"
        },
        "id": "2wFfw8jp522-",
        "outputId": "e0b18004-42ab-426a-e1a9-de6b531b73a4"
      },
      "execution_count": null,
      "outputs": [
        {
          "output_type": "stream",
          "name": "stdout",
          "text": [
            "<class 'list'> ['apple', 'banana', 'mango', 100, 9]\n",
            "5\n",
            "[]\n",
            "<class 'list'> ['Priyanshu', 9, 'Sharma']\n",
            "2\n",
            "['Name :Priyanshu Sharma'] ['Register :22BHI10063'] ['Priyanshu', 9, 'Sharma'] ['University :VIT Bhopal'] ['Address :Bhopal-Indore Expressway Kothri Kalan Sehore Madhya Pradesh 466114']\n",
            "['University :VIT Bhopal']\n",
            "[]\n",
            "['Address :Bhopal-Indore Expressway Kothri Kalan Sehore Madhya Pradesh 466114']\n",
            "['Address :Bhopal-Indore Expressway Kothri Kalan Sehore Madhya Pradesh 466114']\n"
          ]
        }
      ]
    },
    {
      "cell_type": "code",
      "source": [
        "a=['Hello World']\n",
        "p=[1,2,3,5,8,10]\n",
        "a.reverse()\n",
        "print(a)\n",
        "\n",
        "print(p[-1::-1])\n",
        "print(p[0:])\n",
        "print(p[2:5])\n",
        "\n",
        "#Adding an element in list\n",
        "a=[\"apple\",\"mango,\",\"cherry\"]\n",
        "a.append(\"strawberry\")\n",
        "print(a)\n",
        "\n",
        "#Inserting an element at a specified position\n",
        "a.insert(1,\"banana\")\n",
        "print(a)\n",
        "\n",
        "\n",
        "#Delete an element\n",
        "a.remove(\"banana\")\n",
        "print(a)\n",
        "\n",
        "#Pop -removes specified index\n",
        "a.pop(0)\n",
        "print(a)\n",
        "\n",
        "#Extend list\n",
        "a=[\"apple\",\"mango\",\"banana\",9]\n",
        "b=[\"Iron man\",\"Rdj\",3000]\n",
        "b.extend(a)\n",
        "print(b)\n",
        "\n",
        "#For loop in list\n",
        "for x in a:\n",
        " print(a)\n",
        "\n",
        " a=[0,12,99.9,-1]\n",
        " for x in a:\n",
        "   print(a)\n",
        "  \n",
        "\n",
        "#Multiply many times\n",
        "print(a*3)\n",
        "p=[\"VIT Bhopal\"]\n",
        "print(p*10)"
      ],
      "metadata": {
        "colab": {
          "base_uri": "https://localhost:8080/"
        },
        "id": "LGPqLuBk9alI",
        "outputId": "e67362b3-71eb-45fb-a1de-66ae56bde9ae"
      },
      "execution_count": null,
      "outputs": [
        {
          "output_type": "stream",
          "name": "stdout",
          "text": [
            "['Hello World']\n",
            "[10, 8, 5, 3, 2, 1]\n",
            "[1, 2, 3, 5, 8, 10]\n",
            "[3, 5, 8]\n",
            "['apple', 'mango,', 'cherry', 'strawberry']\n",
            "['apple', 'banana', 'mango,', 'cherry', 'strawberry']\n",
            "['apple', 'mango,', 'cherry', 'strawberry']\n",
            "['mango,', 'cherry', 'strawberry']\n",
            "['Iron man', 'Rdj', 3000, 'apple', 'mango', 'banana', 9]\n",
            "['apple', 'mango', 'banana', 9]\n",
            "[0, 12, 99.9, -1]\n",
            "[0, 12, 99.9, -1]\n",
            "[0, 12, 99.9, -1]\n",
            "[0, 12, 99.9, -1]\n",
            "[0, 12, 99.9, -1]\n",
            "[0, 12, 99.9, -1]\n",
            "[0, 12, 99.9, -1]\n",
            "[0, 12, 99.9, -1]\n",
            "[0, 12, 99.9, -1]\n",
            "[0, 12, 99.9, -1]\n",
            "[0, 12, 99.9, -1]\n",
            "[0, 12, 99.9, -1]\n",
            "[0, 12, 99.9, -1]\n",
            "[0, 12, 99.9, -1]\n",
            "[0, 12, 99.9, -1]\n",
            "[0, 12, 99.9, -1]\n",
            "[0, 12, 99.9, -1]\n",
            "[0, 12, 99.9, -1]\n",
            "[0, 12, 99.9, -1]\n",
            "[0, 12, 99.9, -1, 0, 12, 99.9, -1, 0, 12, 99.9, -1]\n",
            "['VIT Bhopal', 'VIT Bhopal', 'VIT Bhopal', 'VIT Bhopal', 'VIT Bhopal', 'VIT Bhopal', 'VIT Bhopal', 'VIT Bhopal', 'VIT Bhopal', 'VIT Bhopal']\n"
          ]
        }
      ]
    },
    {
      "cell_type": "code",
      "source": [
        "integer1 = -10\n",
        "integer2 = 22\n",
        "float1 = -1.101\n",
        "float2 = 1.234\n",
        "zero = 0\n",
        "print(abs(integer1))\n",
        "print(abs(integer2))\n",
        "print(abs(float1))\n",
        "print(abs(float2))\n",
        "print(abs(zero))\n",
        "#Absolute value\n",
        "a=100\n",
        "b=-1\n",
        "p=99.9\n",
        "s=-2.1\n",
        "m=0\n",
        "print(abs(a))\n",
        "print(abs(b))\n",
        "print(abs(p))\n",
        "print(abs(s))\n",
        "print(abs(m))\n"
      ],
      "metadata": {
        "colab": {
          "base_uri": "https://localhost:8080/"
        },
        "id": "yWppbYMxIIp4",
        "outputId": "6023f1e2-d2de-4648-bf22-ef82ff1b8a48"
      },
      "execution_count": null,
      "outputs": [
        {
          "output_type": "stream",
          "name": "stdout",
          "text": [
            "10\n",
            "22\n",
            "1.101\n",
            "1.234\n",
            "0\n",
            "100\n",
            "1\n",
            "99.9\n",
            "2.1\n",
            "0\n"
          ]
        }
      ]
    },
    {
      "cell_type": "code",
      "source": [
        "#Set\n",
        "a={\"apple\",\"banana\",\"cherry\"} #unordered\n",
        "b={10,20,30,50}\n",
        "c={50,60,70,80}\n",
        "d={\"cherry\",\"strawberry\",\"mango\"}\n",
        "\n",
        "#Adding an element in set\n",
        "a.add(\"Orange\")\n",
        "\n",
        "print(a)\n",
        "print(a)\n",
        "print(type(a),a)\n",
        "print(b)\n",
        "print(c)\n",
        "\n",
        "#Addition of set\n",
        "print(b|c)\n",
        "print(a|b|c)\n",
        "\n",
        "#Find common in two sets\n",
        "print(a & d)\n",
        "#Difference of set-elements (will be printed of set 1 excluding the the set 1 present in set 2 ,only the set 1) \n",
        "print(b-c)\n",
        "#Set difference semantics\n",
        "print(b^c)"
      ],
      "metadata": {
        "colab": {
          "base_uri": "https://localhost:8080/"
        },
        "id": "IaRbotwYmtgl",
        "outputId": "7d0135a3-8aea-407d-fc23-98ee268889e7"
      },
      "execution_count": null,
      "outputs": [
        {
          "output_type": "stream",
          "name": "stdout",
          "text": [
            "{'cherry', 'Orange', 'apple', 'banana'}\n",
            "{'cherry', 'Orange', 'apple', 'banana'}\n",
            "<class 'set'> {'cherry', 'Orange', 'apple', 'banana'}\n",
            "{10, 20, 50, 30}\n",
            "{80, 50, 60, 70}\n",
            "{70, 10, 80, 50, 20, 60, 30}\n",
            "{'cherry', 'banana', 70, 10, 80, 50, 20, 'Orange', 'apple', 60, 30}\n",
            "{'cherry'}\n",
            "{10, 20, 30}\n",
            "{70, 10, 80, 20, 60, 30}\n"
          ]
        }
      ]
    },
    {
      "cell_type": "code",
      "source": [
        "#Dictionaries\n",
        "#\"key\":value  -pair\n",
        "a={\"Name\":\"Priyanshu Sharma\",\n",
        "   \"Age\":18,\n",
        "   \"University\":\"VIT Bhopal\",\n",
        "   \"Address\":\"Bhopal -Indorewxpressway Kothri Kalan Sehore\",\n",
        "   \"State\":\"Madhya Pradesh\"\n",
        "   }\n",
        "print(a)\n",
        "print(type(a))\n",
        "#Add-Update value\n",
        "a.update({\"Age\":20})\n",
        "print(a)\n",
        "#Pop-Remove value\n",
        "a.pop(\"Age\")\n",
        "print(a)\n",
        "\n",
        "\"VIT Bhopal\"in a\n",
        "\"University\" in a"
      ],
      "metadata": {
        "colab": {
          "base_uri": "https://localhost:8080/"
        },
        "id": "vKaVaiX7tFJ8",
        "outputId": "bb93e793-d104-4331-9b9c-0c3f2c8888c4"
      },
      "execution_count": null,
      "outputs": [
        {
          "output_type": "stream",
          "name": "stdout",
          "text": [
            "{'Name': 'Priyanshu Sharma', 'Age': 18, 'University': 'VIT Bhopal', 'Address': 'Bhopal -Indorewxpressway Kothri Kalan Sehore', 'State': 'Madhya Pradesh'}\n",
            "<class 'dict'>\n",
            "{'Name': 'Priyanshu Sharma', 'Age': 20, 'University': 'VIT Bhopal', 'Address': 'Bhopal -Indorewxpressway Kothri Kalan Sehore', 'State': 'Madhya Pradesh'}\n",
            "{'Name': 'Priyanshu Sharma', 'University': 'VIT Bhopal', 'Address': 'Bhopal -Indorewxpressway Kothri Kalan Sehore', 'State': 'Madhya Pradesh'}\n"
          ]
        },
        {
          "output_type": "execute_result",
          "data": {
            "text/plain": [
              "True"
            ]
          },
          "metadata": {},
          "execution_count": 2
        }
      ]
    },
    {
      "cell_type": "code",
      "source": [
        "#create,add,delete,update,merge -List\n",
        "a=[\"Apple\",\"Mango\",\"Cherry\",9]\n",
        "print(type(a))\n",
        "#Add an element in List\n",
        "a.append(\"Strawberry\")\n",
        "print(a)\n",
        "#Remove an element in List\n",
        "a.remove(\"Apple\")\n",
        "print(a)\n",
        "#Update an element in List\n",
        "a[0]=\"Banana\"\n",
        "print(a)\n",
        "\n",
        "#Merging or joining of two List\n",
        "\n",
        "b=[\"Kiwi\",20,50,80,100]\n",
        "print(a+b)\n"
      ],
      "metadata": {
        "colab": {
          "base_uri": "https://localhost:8080/"
        },
        "id": "hMjyxEexwbM3",
        "outputId": "11b0d98c-8bb3-4c0a-dbd4-adb60f345a8a"
      },
      "execution_count": null,
      "outputs": [
        {
          "output_type": "stream",
          "name": "stdout",
          "text": [
            "<class 'list'>\n",
            "['Apple', 'Mango', 'Cherry', 9, 'Strawberry']\n",
            "['Mango', 'Cherry', 9, 'Strawberry']\n",
            "['Banana', 'Cherry', 9, 'Strawberry']\n",
            "['Banana', 'Cherry', 9, 'Strawberry', 'Kiwi', 20, 50, 80, 100]\n"
          ]
        }
      ]
    },
    {
      "cell_type": "code",
      "source": [
        "numbers=(2,4,6,8,10)#Tuple\n",
        "print(numbers)\n",
        "print()\n",
        "\n",
        "print(numbers)\n",
        "value=(2,8,6,10,12)#Immutable\n",
        "print(value)\n",
        "\n",
        "#Converting tuple to list\n",
        "print(list(value))\n",
        "#Length of Tuple\n",
        "print(len(value))\n",
        "a=(\"Ironman,Robert ,Downey Junior\")\n",
        "print(a[-1::-1])\n",
        "print(reversed(a))\n",
        "\n",
        "a=(2,6,8,4,12,20)#Sorting Tuple\n",
        "print(\"Sorted a\",sorted(a))\n",
        "\n",
        "\n",
        "great=[\"hello\",\"robert\",\"downey\",\"junior\",3000]#List\n",
        "print(len(great))\n",
        "great.append(\"Love you 3000\")#Mutable\n",
        "great.append(9)#Adding element in list\n",
        "print(great)\n",
        "\n",
        "print(great[0:])\n",
        "print(great[1:5])\n",
        "print(great[5:])\n"
      ],
      "metadata": {
        "colab": {
          "base_uri": "https://localhost:8080/",
          "height": 357
        },
        "id": "6Z5GqaPoMyDu",
        "outputId": "b1f9fb5e-eece-4d67-81bc-d286a413e5a3"
      },
      "execution_count": null,
      "outputs": [
        {
          "output_type": "stream",
          "name": "stdout",
          "text": [
            "(2, 4, 6, 8, 10)\n",
            "\n",
            "(2, 4, 6, 8, 10)\n",
            "(2, 8, 6, 10, 12)\n",
            "[2, 8, 6, 10, 12]\n",
            "5\n",
            "roinuJ yenwoD, treboR,namnorI\n"
          ]
        },
        {
          "output_type": "error",
          "ename": "NameError",
          "evalue": "ignored",
          "traceback": [
            "\u001b[0;31m---------------------------------------------------------------------------\u001b[0m",
            "\u001b[0;31mNameError\u001b[0m                                 Traceback (most recent call last)",
            "\u001b[0;32m<ipython-input-31-13019bc94c94>\u001b[0m in \u001b[0;36m<module>\u001b[0;34m\u001b[0m\n\u001b[1;32m     13\u001b[0m \u001b[0ma\u001b[0m\u001b[0;34m=\u001b[0m\u001b[0;34m(\u001b[0m\u001b[0;34m\"Ironman,Robert ,Downey Junior\"\u001b[0m\u001b[0;34m)\u001b[0m\u001b[0;34m\u001b[0m\u001b[0;34m\u001b[0m\u001b[0m\n\u001b[1;32m     14\u001b[0m \u001b[0mprint\u001b[0m\u001b[0;34m(\u001b[0m\u001b[0ma\u001b[0m\u001b[0;34m[\u001b[0m\u001b[0;34m-\u001b[0m\u001b[0;36m1\u001b[0m\u001b[0;34m:\u001b[0m\u001b[0;34m:\u001b[0m\u001b[0;34m-\u001b[0m\u001b[0;36m1\u001b[0m\u001b[0;34m]\u001b[0m\u001b[0;34m)\u001b[0m\u001b[0;34m\u001b[0m\u001b[0;34m\u001b[0m\u001b[0m\n\u001b[0;32m---> 15\u001b[0;31m \u001b[0mprint\u001b[0m\u001b[0;34m(\u001b[0m\u001b[0mresult\u001b[0m\u001b[0;34m.\u001b[0m\u001b[0mreversed\u001b[0m\u001b[0;34m(\u001b[0m\u001b[0ma\u001b[0m\u001b[0;34m)\u001b[0m\u001b[0;34m)\u001b[0m\u001b[0;34m\u001b[0m\u001b[0;34m\u001b[0m\u001b[0m\n\u001b[0m\u001b[1;32m     16\u001b[0m \u001b[0mprint\u001b[0m\u001b[0;34m(\u001b[0m\u001b[0mresult\u001b[0m\u001b[0;34m)\u001b[0m\u001b[0;34m\u001b[0m\u001b[0;34m\u001b[0m\u001b[0m\n\u001b[1;32m     17\u001b[0m \u001b[0;34m\u001b[0m\u001b[0m\n",
            "\u001b[0;31mNameError\u001b[0m: name 'result' is not defined"
          ]
        }
      ]
    },
    {
      "cell_type": "code",
      "source": [],
      "metadata": {
        "id": "ENDvVvfAXaeP"
      },
      "execution_count": null,
      "outputs": []
    },
    {
      "cell_type": "code",
      "source": [
        "tuplevalues=(1,2,3,'VIT Bhopal',25.9,4,5)\n",
        "print(tuplevalues)\n",
        "print(len(tuplevalues))\n"
      ],
      "metadata": {
        "colab": {
          "base_uri": "https://localhost:8080/"
        },
        "id": "LgRitapZXcM7",
        "outputId": "2697de39-3d38-49d9-dfd0-5ee0b94f3ab8"
      },
      "execution_count": null,
      "outputs": [
        {
          "output_type": "stream",
          "name": "stdout",
          "text": [
            "(1, 2, 3, 'VIT Bhopal', 25.9, 4, 5)\n",
            "7\n"
          ]
        }
      ]
    },
    {
      "cell_type": "code",
      "source": [
        "from tkinter import *\n",
        "import tkinter.messagebox\n",
        "import mysql.connector\n",
        "\n",
        "\n",
        "#connecting to the database\n",
        "connectiondb = mysql.connector.connect(host=\"localhost\",user=\"root\",passwd=\"\",database=\"logindb\")\n",
        "cursordb = connectiondb.cursor()\n",
        "\n",
        "\n",
        "def login():\n",
        "global root2\n",
        "root2 = Toplevel(root)\n",
        "root2.title(\"Account Login\")\n",
        "root2.geometry(\"450x300\")\n",
        "root2.config(bg=\"white\")\n",
        "\n",
        "global username_verification\n",
        "global password_verification\n",
        "Label(root2, text='Please Enter your Account Details', bd=5,font=('arial', 12, 'bold'), relief=\"groove\", fg=\"white\",\n",
        "bg=\"blue\",width=300).pack()\n",
        "username_verification = StringVar()\n",
        "password_verification = StringVar()\n",
        "Label(root2, text=\"\").pack()\n",
        "Label(root2, text=\"Username :\", fg=\"black\", font=('arial', 12, 'bold')).pack()\n",
        "Entry(root2, textvariable=username_verification).pack()\n",
        "Label(root2, text=\"\").pack()\n",
        "Label(root2, text=\"Password :\", fg=\"black\", font=('arial', 12, 'bold')).pack()\n",
        "Entry(root2, textvariable=password_verification, show=\"*\").pack()\n",
        "Label(root2, text=\"\").pack()\n",
        "Button(root2, text=\"Login\", bg=\"blue\", fg='white', relief=\"groove\", font=('arial', 12, 'bold'),command=login_verification).pack()\n",
        "Label(root2, text=\"\")\n",
        "\n",
        "def logged_destroy():\n",
        "logged_message.destroy()\n",
        "root2.destroy()\n",
        "\n",
        "def failed_destroy():\n",
        "failed_message.destroy()\n",
        "\n",
        "def logged():\n",
        "global logged_message\n",
        "logged_message = Toplevel(root2)\n",
        "logged_message.title(\"Welcome\")\n",
        "logged_message.geometry(\"500x100\")\n",
        "Label(logged_message, text=\"Login Successfully!... Welcome {} \".format(username_verification.get()), fg=\"green\", font=\"bold\").pack()\n",
        "Label(logged_message, text=\"\").pack()\n",
        "Button(logged_message, text=\"Logout\", bg=\"blue\", fg='white', relief=\"groove\", font=('arial', 12, 'bold'), command=logged_destroy).pack()\n",
        "\n",
        "\n",
        "def failed():\n",
        "global failed_message\n",
        "failed_message = Toplevel(root2)\n",
        "failed_message.title(\"Invalid Message\")\n",
        "failed_message.geometry(\"500x100\")\n",
        "Label(failed_message, text=\"Invalid Username or Password\", fg=\"red\", font=\"bold\").pack()\n",
        "Label(failed_message, text=\"\").pack()\n",
        "Button(failed_message,text=\"Ok\", bg=\"blue\", fg='white', relief=\"groove\", font=('arial', 12, 'bold'), command=failed_destroy).pack()\n",
        "\n",
        "\n",
        "def login_verification():\n",
        "user_verification = username_verification.get()\n",
        "pass_verification = password_verification.get()\n",
        "sql = \"select * from usertable where username = %s and password = %s\"\n",
        "cursordb.execute(sql,[(user_verification),(pass_verification)])\n",
        "results = cursordb.fetchall()\n",
        "if results:\n",
        "for i in results:\n",
        "logged()\n",
        "break\n",
        "else:\n",
        "failed()\n",
        "\n",
        "def Exit():\n",
        "wayOut = tkinter.messagebox.askyesno(\"Login System\", \"Do you want to exit the system\")\n",
        "if wayOut > 0:\n",
        "root.destroy()\n",
        "return\n",
        "\n",
        "def main_display():\n",
        "global root\n",
        "root = Tk()\n",
        "root.config(bg=\"white\")\n",
        "root.title(\"Login System\")\n",
        "root.geometry(\"500x500\")\n",
        "Label(root,text='Welcome to Log In System', bd=20, font=('arial', 20, 'bold'), relief=\"groove\", fg=\"white\",\n",
        "bg=\"blue\",width=300).pack()\n",
        "Label(root,text=\"\").pack()\n",
        "Button(root,text='Log In', height=\"1\",width=\"20\", bd=8, font=('arial', 12, 'bold'), relief=\"groove\", fg=\"white\",\n",
        "bg=\"blue\",command=login).pack()\n",
        "Label(root,text=\"\").pack()\n",
        "Button(root,text='Exit', height=\"1\",width=\"20\", bd=8, font=('arial', 12, 'bold'), relief=\"groove\", fg=\"white\",\n",
        "bg=\"blue\",command=Exit).pack()\n",
        "Label(root,text=\"\").pack()\n",
        "\n",
        "main_display()\n",
        "root.mainloop()"
      ],
      "metadata": {
        "colab": {
          "base_uri": "https://localhost:8080/",
          "height": 131
        },
        "id": "gE9SJqxW22_F",
        "outputId": "ff93868c-34cc-425c-9184-546df60d340b"
      },
      "execution_count": null,
      "outputs": [
        {
          "output_type": "error",
          "ename": "IndentationError",
          "evalue": "ignored",
          "traceback": [
            "\u001b[0;36m  File \u001b[0;32m\"<ipython-input-1-d1f1da5aa8fd>\"\u001b[0;36m, line \u001b[0;32m12\u001b[0m\n\u001b[0;31m    global root2\u001b[0m\n\u001b[0m    ^\u001b[0m\n\u001b[0;31mIndentationError\u001b[0m\u001b[0;31m:\u001b[0m expected an indented block\n"
          ]
        }
      ]
    },
    {
      "cell_type": "code",
      "source": [
        "a='VIT' #Concatenation\n",
        "b='Bhopal'\n",
        "c=a+b\n",
        "print(c)\n",
        "str1=\"123\"\n",
        "a=int(str1)+1\n",
        "a=input(\"Enter a value \")\n",
        "print(a)\n",
        "print(int(a)-10)\n"
      ],
      "metadata": {
        "colab": {
          "base_uri": "https://localhost:8080/"
        },
        "id": "JuC5s1Pc-Ngc",
        "outputId": "b5823838-b4de-44b7-bf88-88cccb7079ac"
      },
      "execution_count": null,
      "outputs": [
        {
          "output_type": "stream",
          "name": "stdout",
          "text": [
            "VITBhopal\n",
            "Enter a value 100\n",
            "100\n",
            "90\n"
          ]
        }
      ]
    },
    {
      "cell_type": "code",
      "source": [
        "a=\"Banana\"\n",
        "print(a[1])\n",
        "a=\"Hello Robert Downey Junior\"\n",
        "print(len(a))\n",
        "print(a[0:])\n",
        "print(a[0:5])\n",
        "print(a[-1:])\n",
        "print(a[-1::-1])\n",
        "\n",
        "\n",
        "p=\"Priyanshu Sharma\"\n",
        "print(len(p))\n",
        "print(p[0:])"
      ],
      "metadata": {
        "colab": {
          "base_uri": "https://localhost:8080/"
        },
        "id": "OweZORvzDCWP",
        "outputId": "8193650c-65e4-46ba-fc66-5e82895ce945"
      },
      "execution_count": null,
      "outputs": [
        {
          "output_type": "stream",
          "name": "stdout",
          "text": [
            "a\n",
            "26\n",
            "Hello Robert Downey Junior\n",
            "Hello\n",
            "r\n",
            "roinuJ yenwoD treboR olleH\n",
            "16\n",
            "Priyanshu Sharma\n"
          ]
        }
      ]
    },
    {
      "cell_type": "code",
      "source": [],
      "metadata": {
        "id": "DXC4u0ZkC9ug"
      },
      "execution_count": null,
      "outputs": []
    },
    {
      "cell_type": "code",
      "source": [
        "a=int(input(\"Type your value\"))\n",
        "while(a<10):\n",
        "  print(a)\n",
        "  a=a+1"
      ],
      "metadata": {
        "colab": {
          "base_uri": "https://localhost:8080/"
        },
        "id": "fuJZG7STj7Ft",
        "outputId": "6c9453c4-262f-4f4a-c52d-f39d0feeb3e6"
      },
      "execution_count": null,
      "outputs": [
        {
          "output_type": "stream",
          "name": "stdout",
          "text": [
            "Type your value0\n",
            "0\n",
            "1\n",
            "2\n",
            "3\n",
            "4\n",
            "5\n",
            "6\n",
            "7\n",
            "8\n",
            "9\n"
          ]
        }
      ]
    },
    {
      "cell_type": "code",
      "source": [
        "print(\"Enter the four scores\")\n",
        "run1=int(input(\"Enter run1\"))\n",
        "run2=int(input(\"Enter run2\"))\n",
        "run3=int(input(\"Enter run3\"))\n",
        "run4=int(input(\"Enter run4\"))\n",
        "battingavg=(run1+run2+run3+run4)/4\n",
        "print(\"Batting Average is\",battingavg)"
      ],
      "metadata": {
        "colab": {
          "base_uri": "https://localhost:8080/"
        },
        "id": "ClZ7ICTEHnZd",
        "outputId": "d9e3ba72-843d-4452-e446-14fec9df8e4b"
      },
      "execution_count": null,
      "outputs": [
        {
          "output_type": "stream",
          "name": "stdout",
          "text": [
            "Enter the four scores\n",
            "Enter run150\n",
            "Enter run290\n",
            "Enter run355\n",
            "Enter run480\n",
            "Batting Average is 68.75\n"
          ]
        }
      ]
    },
    {
      "cell_type": "code",
      "source": [
        "a=0\n",
        "b=10\n",
        "while a<b:\n",
        "  print(a,end='')\n",
        "  a=a+1"
      ],
      "metadata": {
        "colab": {
          "base_uri": "https://localhost:8080/"
        },
        "id": "pI2erg65l0-Z",
        "outputId": "7e56b50c-8886-4a57-e1ba-0c0284766640"
      },
      "execution_count": null,
      "outputs": [
        {
          "output_type": "stream",
          "name": "stdout",
          "text": [
            "0123456789"
          ]
        }
      ]
    },
    {
      "cell_type": "code",
      "source": [
        "a=int(input(\"Type a number\"))\n",
        "while(a<=50):\n",
        "  print(a)\n",
        "  a=a+1\n",
        "  if a==20:\n",
        "    break;\n",
        "   \n"
      ],
      "metadata": {
        "id": "KZWLpAmsnqCC",
        "colab": {
          "base_uri": "https://localhost:8080/"
        },
        "outputId": "9e267c77-5c80-47da-d705-d930b03ae025"
      },
      "execution_count": null,
      "outputs": [
        {
          "output_type": "stream",
          "name": "stdout",
          "text": [
            "Type a number1\n",
            "1\n",
            "2\n",
            "3\n",
            "4\n",
            "5\n",
            "6\n",
            "7\n",
            "8\n",
            "9\n",
            "10\n",
            "11\n",
            "12\n",
            "13\n",
            "14\n",
            "15\n",
            "16\n",
            "17\n",
            "18\n",
            "19\n"
          ]
        }
      ]
    },
    {
      "cell_type": "code",
      "source": [
        "a=int(input(\"Enter your number \"))\n",
        "while (a<=10):\n",
        "  if a%2==0:\n",
        "    print(a)"
      ],
      "metadata": {
        "id": "ant9suLIrgTp"
      },
      "execution_count": null,
      "outputs": []
    },
    {
      "cell_type": "code",
      "source": [
        "num = 11\n",
        "# If given number is greater than 1\n",
        "if num > 1:\n",
        "    # Iterate from 2 to n / 2\n",
        "    for i in range(2, int(num/2)+1):\n",
        "        # If num is divisible by any number between\n",
        "        # 2 and n / 2, it is not prime\n",
        "        if (num % i) == 0:\n",
        "            print(num, \"is not a prime number\")\n",
        "            break\n",
        "    else:\n",
        "        print(num, \"is a prime number\")\n",
        "else:\n",
        "    print(num, \"is not a prime number\")"
      ],
      "metadata": {
        "id": "8GdbEp26tGN_"
      },
      "execution_count": null,
      "outputs": []
    },
    {
      "cell_type": "code",
      "source": [
        "a=int(input(\"Type your number\"))\n",
        "sum=0\n",
        "for b in range(1,a+1,1):\n",
        " sum=sum+b\n",
        "avg=sum/b\n",
        "print(avg) \n",
        " "
      ],
      "metadata": {
        "colab": {
          "base_uri": "https://localhost:8080/"
        },
        "id": "SAQaJ-Ugwfie",
        "outputId": "c05f6de4-28da-47b0-b569-447f52d1a1d6"
      },
      "execution_count": null,
      "outputs": [
        {
          "output_type": "stream",
          "name": "stdout",
          "text": [
            "Type your number50\n",
            "25.5\n"
          ]
        }
      ]
    },
    {
      "cell_type": "code",
      "source": [
        "count=0\n",
        "total=0\n",
        "n=int(input(\"Enter how many mark you want to read\"))\n",
        "while count<n:\n",
        "  mark=int(input(\"Enter mark\"))\n",
        "  if mark<0:\n",
        "    print(\"mark should be grater than 0,terminates\")\n",
        "    break\n",
        "  total=total+mark\n",
        "  count=count+1 \n",
        "  average=total/n \n",
        "else:\n",
        "     print(average)    \n"
      ],
      "metadata": {
        "colab": {
          "base_uri": "https://localhost:8080/"
        },
        "id": "3W4tSjZryZjo",
        "outputId": "fd4fe0c1-1514-4ed0-dd37-053237b0030d"
      },
      "execution_count": null,
      "outputs": [
        {
          "output_type": "stream",
          "name": "stdout",
          "text": [
            "Enter how many mark you want to read5\n",
            "Enter mark90\n",
            "Enter mark80\n",
            "Enter mark70\n",
            "Enter mark85\n",
            "Enter mark95\n",
            "84.0\n"
          ]
        }
      ]
    },
    {
      "cell_type": "code",
      "source": [
        "for i in range(10):\n",
        "    print(i)\n",
        "    if i == 2:\n",
        "        break\n",
        "        "
      ],
      "metadata": {
        "id": "jNUrF8N5oqRF",
        "colab": {
          "base_uri": "https://localhost:8080/"
        },
        "outputId": "3c718e95-f1f7-4e3a-cd00-22d912af4c20"
      },
      "execution_count": null,
      "outputs": [
        {
          "output_type": "stream",
          "name": "stdout",
          "text": [
            "0\n",
            "1\n",
            "2\n"
          ]
        }
      ]
    },
    {
      "cell_type": "code",
      "source": [
        "\n",
        "for a in range(20):\n",
        "  print(a)\n",
        "  if a==10:\n",
        "    break\n",
        "\n"
      ],
      "metadata": {
        "id": "5NP4lWbiqdeV",
        "colab": {
          "base_uri": "https://localhost:8080/"
        },
        "outputId": "ccc03d25-1337-4b4d-a8be-457b93efdc8a"
      },
      "execution_count": null,
      "outputs": [
        {
          "output_type": "stream",
          "name": "stdout",
          "text": [
            "0\n",
            "1\n",
            "2\n",
            "3\n",
            "4\n",
            "5\n",
            "6\n",
            "7\n",
            "8\n",
            "9\n",
            "10\n"
          ]
        }
      ]
    },
    {
      "cell_type": "code",
      "source": [],
      "metadata": {
        "id": "hHWlGb94qJG0"
      },
      "execution_count": null,
      "outputs": []
    },
    {
      "cell_type": "code",
      "source": [],
      "metadata": {
        "id": "tPmfp5FlonQT"
      },
      "execution_count": null,
      "outputs": []
    },
    {
      "cell_type": "code",
      "source": [
        "#Grade\n",
        "a=float(input(\"Enter your Grade \"))\n",
        "if (a>=90):\n",
        "  print(\"S Grade\")\n",
        "else:\n",
        "  print(\"A Grade\")"
      ],
      "metadata": {
        "colab": {
          "base_uri": "https://localhost:8080/"
        },
        "id": "xUeUGfW6K4x_",
        "outputId": "d354ca28-bb59-46cd-da6e-3ccbbba46a99"
      },
      "execution_count": null,
      "outputs": [
        {
          "output_type": "stream",
          "name": "stdout",
          "text": [
            "Enter your Grade 88\n",
            "A Grade\n"
          ]
        }
      ]
    },
    {
      "cell_type": "code",
      "source": [
        "a=int(input(\"Enter a number \"))\n",
        "b=int(input(\"Enter a number \"))\n",
        "c=int(input(\"Enter a number \"))\n",
        "if a>b:\n",
        " if a>c:\n",
        "  print(\"a is greater\" )\n",
        "elif b>c:\n",
        "  if b>a:\n",
        "    print(\"b is greater\")  \n",
        "else:\n",
        "  print(\"c is greater\")  \n",
        "\n",
        "\n",
        "\n"
      ],
      "metadata": {
        "colab": {
          "base_uri": "https://localhost:8080/"
        },
        "id": "SRq835CzMy2L",
        "outputId": "ad21363d-33c5-4bb5-ce65-6d0d6d590783"
      },
      "execution_count": null,
      "outputs": [
        {
          "output_type": "stream",
          "name": "stdout",
          "text": [
            "Enter a number 5\n",
            "Enter a number 4\n",
            "Enter a number 2\n",
            "a is greater\n"
          ]
        }
      ]
    },
    {
      "cell_type": "code",
      "source": [
        "#PEMDAS Rule\n",
        "a=(2**3+2*(2+3))\n",
        "b=(1+2*3)\n",
        "c=4-40-3\n",
        "m=4-(40-3)\n",
        "print(a,b,c,m)\n",
        "\n"
      ],
      "metadata": {
        "colab": {
          "base_uri": "https://localhost:8080/"
        },
        "id": "qTGguZWV2CSn",
        "outputId": "640d5d32-2fc9-4d03-c034-f1c8081b25b4"
      },
      "execution_count": null,
      "outputs": [
        {
          "output_type": "stream",
          "name": "stdout",
          "text": [
            "18 7 -39 -33\n"
          ]
        }
      ]
    },
    {
      "cell_type": "code",
      "source": [
        "num1=input(\"Enter your number\")\n",
        "num2=int(input(\"Enter your number\"))\n",
        "num3=input(\"Enter your name\")\n",
        "num4=int(input(\"Enter your number\"))\n",
        "print(type(num1),num1)\n",
        "print(type(num2),num2)\n",
        "print(type(num3),num3)\n",
        "print(type(num4),num4)"
      ],
      "metadata": {
        "colab": {
          "base_uri": "https://localhost:8080/"
        },
        "id": "QOr5-9Tu6fEB",
        "outputId": "2cb3af97-7aa7-488b-c9ea-22b89e17ac10"
      },
      "execution_count": null,
      "outputs": [
        {
          "output_type": "stream",
          "name": "stdout",
          "text": [
            "Enter your numberHello\n",
            "Enter your number9\n",
            "Enter your namePriyanshu Sharma\n",
            "Enter your number9\n",
            "<class 'str'> Hello\n",
            "<class 'int'> 9\n",
            "<class 'str'> Priyanshu Sharma\n",
            "<class 'int'> 9\n"
          ]
        }
      ]
    },
    {
      "cell_type": "code",
      "source": [
        "a=input(\"Enter your Name\")\n",
        "b=input(\"Enter your Registration Number\")\n",
        "p=input(\"Enter your course Name\")\n",
        "s=input(\"Enter your Address\")\n",
        "print(a)\n",
        "print(b)\n",
        "print(p)\n",
        "print(s)\n"
      ],
      "metadata": {
        "colab": {
          "base_uri": "https://localhost:8080/"
        },
        "id": "EJNdR4kl7c0K",
        "outputId": "7188a57e-b5ce-4737-c315-bb292ff73c4f"
      },
      "execution_count": null,
      "outputs": [
        {
          "output_type": "stream",
          "name": "stdout",
          "text": [
            "Enter your NamePriyanshu Sharma\n",
            "Enter your Registration Number22BHI10063\n",
            "Enter your course NameCSE -BHI\n",
            "Enter your AddressVIT Bhopal,Bhopal Indore Expressway,Kotri Kalan,Sehore,46114,Madhya Pradesh\n",
            "Priyanshu Sharma\n",
            "22BHI10063\n",
            "CSE -BHI\n",
            "VIT Bhopal,Bhopal Indore Expressway,Kotri Kalan,Sehore,46114,Madhya Pradesh\n"
          ]
        }
      ]
    },
    {
      "cell_type": "code",
      "source": [
        "x=10\n",
        "y=5\n",
        "x=x+y\n",
        "print(x)\n",
        "x+=y\n",
        "print(x)\n",
        "x&=y\n",
        "print(x)\n",
        "x-=y\n",
        "print(x)\n",
        "x|=y\n",
        "print(x)\n",
        "x*=y\n",
        "print(x)\n",
        "x^=y\n",
        "print(x)\n",
        "x/=y\n",
        "print(x)\n",
        "x >>=y\n",
        "print(x)\n",
        "x%=y\n",
        "print(x)\n",
        "x<<=y\n",
        "print(x)\n",
        "x**=y\n",
        "print(x)\n",
        "x//=y\n",
        "print(x)"
      ],
      "metadata": {
        "colab": {
          "base_uri": "https://localhost:8080/",
          "height": 374
        },
        "id": "a-b3-Svv8nau",
        "outputId": "ddb57751-e93d-4b43-d4cc-8cd9bbcdb280"
      },
      "execution_count": null,
      "outputs": [
        {
          "output_type": "stream",
          "name": "stdout",
          "text": [
            "15\n",
            "20\n",
            "4\n",
            "-1\n",
            "-1\n",
            "-5\n",
            "-2\n",
            "-0.4\n"
          ]
        },
        {
          "output_type": "error",
          "ename": "TypeError",
          "evalue": "ignored",
          "traceback": [
            "\u001b[0;31m---------------------------------------------------------------------------\u001b[0m",
            "\u001b[0;31mTypeError\u001b[0m                                 Traceback (most recent call last)",
            "\u001b[0;32m<ipython-input-24-37d8b7d2b7f7>\u001b[0m in \u001b[0;36m<module>\u001b[0;34m\u001b[0m\n\u001b[1;32m     17\u001b[0m \u001b[0mx\u001b[0m\u001b[0;34m/=\u001b[0m\u001b[0my\u001b[0m\u001b[0;34m\u001b[0m\u001b[0;34m\u001b[0m\u001b[0m\n\u001b[1;32m     18\u001b[0m \u001b[0mprint\u001b[0m\u001b[0;34m(\u001b[0m\u001b[0mx\u001b[0m\u001b[0;34m)\u001b[0m\u001b[0;34m\u001b[0m\u001b[0;34m\u001b[0m\u001b[0m\n\u001b[0;32m---> 19\u001b[0;31m \u001b[0mx\u001b[0m \u001b[0;34m>>=\u001b[0m\u001b[0my\u001b[0m\u001b[0;34m\u001b[0m\u001b[0;34m\u001b[0m\u001b[0m\n\u001b[0m\u001b[1;32m     20\u001b[0m \u001b[0mprint\u001b[0m\u001b[0;34m(\u001b[0m\u001b[0mx\u001b[0m\u001b[0;34m)\u001b[0m\u001b[0;34m\u001b[0m\u001b[0;34m\u001b[0m\u001b[0m\n\u001b[1;32m     21\u001b[0m \u001b[0mx\u001b[0m\u001b[0;34m%=\u001b[0m\u001b[0my\u001b[0m\u001b[0;34m\u001b[0m\u001b[0;34m\u001b[0m\u001b[0m\n",
            "\u001b[0;31mTypeError\u001b[0m: unsupported operand type(s) for >>=: 'float' and 'int'"
          ]
        }
      ]
    },
    {
      "cell_type": "code",
      "source": [
        "#Pay\n",
        "bp=float(input(\"Enter your Basic Pay \"))\n",
        "netpay=bp+(bp*0.8)+(bp*0.3)-(bp*0.12)\n",
        "print(\"Salary\",netpay)\n"
      ],
      "metadata": {
        "colab": {
          "base_uri": "https://localhost:8080/"
        },
        "id": "tOp2H7gx_lld",
        "outputId": "8185522a-0803-4412-e591-26ef406ad779"
      },
      "execution_count": null,
      "outputs": [
        {
          "output_type": "stream",
          "name": "stdout",
          "text": [
            "Enter your Basic Pay 150000\n",
            "Salary 297000.0\n"
          ]
        }
      ]
    },
    {
      "cell_type": "code",
      "source": [],
      "metadata": {
        "id": "o6tAH68b82UU"
      },
      "execution_count": null,
      "outputs": []
    },
    {
      "cell_type": "code",
      "source": [
        "a=5#Basic Arithmetic Operations\n",
        "b=4\n",
        "print(a+b)\n",
        "print(a-b)\n",
        "print(a*b)\n",
        "print(a/b)\n",
        "print(a//b)\n",
        "print(a%b)\n",
        "print(a**b)\n",
        "print(5>4)"
      ],
      "metadata": {
        "colab": {
          "base_uri": "https://localhost:8080/"
        },
        "id": "zF67lBfg1NM6",
        "outputId": "1a58c7a7-05fa-49dd-829e-0399c52aa071"
      },
      "execution_count": null,
      "outputs": [
        {
          "output_type": "stream",
          "name": "stdout",
          "text": [
            "9\n",
            "1\n",
            "20\n",
            "1.25\n",
            "1\n",
            "1\n",
            "625\n",
            "True\n"
          ]
        }
      ]
    },
    {
      "cell_type": "code",
      "source": [
        "b=2500\n",
        "print(b,type(b))\n",
        "#a=.099\n",
        "#print(a,(type a)) \n",
        "#c=1,02.46\n",
        "#print(c,(type c))\n",
        "#p='Jennifer Smiths's Friend'\n",
        "#print(p,(type p))\n",
        "m=\"let's go\"\n",
        "print(m,type(m))\n",
        "p='Hello Rdj'\n",
        "print(p,type(p))\n",
        "s=\"Hello Rdj\"\n",
        "print(s,type(s))\n",
        "print('Hello \\n Jennifer')\n",
        "print(\"VIT Bhopal \\n Bhopal Indore Expressway \\n Kothri Kalan,46114 \\n Madhya Pradesh\")\n",
        "print(9>5)\n",
        "bin(5)\n",
        "print(bin(12))\n",
        "print(oct(12))\n",
        "print(hex(12))\n",
        "X=0xAAAAAAAAAAAAAAAAAAAAAAAAAA9999999999999999999987654321\n",
        "print(bin(X))\n",
        "print(oct(X))\n",
        "print(hex(X))\n",
        "print(1.2e00*2.4e100)\n",
        "print(1.2e00/2.4e100)\n",
        "print(1.2e200*2.4e200)\n",
        "print(1.2e-200/2.4e200)\n",
        "print('a'*15)\n",
        "print(2+1j*3)"
      ],
      "metadata": {
        "colab": {
          "base_uri": "https://localhost:8080/"
        },
        "id": "cqJwvZJ5g57K",
        "outputId": "dab4d1dc-0684-4260-bac1-e68a731397f7"
      },
      "execution_count": null,
      "outputs": [
        {
          "output_type": "stream",
          "name": "stdout",
          "text": [
            "2500 <class 'int'>\n",
            "let's go <class 'str'>\n",
            "Hello Rdj <class 'str'>\n",
            "Hello Rdj <class 'str'>\n",
            "Hello \n",
            " Jennifer\n",
            "VIT Bhopal \n",
            " Bhopal Indore Expressway \n",
            " Kothri Kalan,46114 \n",
            " Madhya Pradesh\n",
            "True\n",
            "0b1100\n",
            "0o14\n",
            "0xc\n",
            "0b101010101010101010101010101010101010101010101010101010101010101010101010101010101010101010101010101010101001100110011001100110011001100110011001100110011001100110011001100110011001100110000111011001010100001100100001\n",
            "0o525252525252525252525252525252525251463146314631463146314631460731241441\n",
            "0xaaaaaaaaaaaaaaaaaaaaaaaaaa9999999999999999999987654321\n",
            "2.88e+100\n",
            "4.9999999999999995e-101\n",
            "inf\n",
            "0.0\n",
            "aaaaaaaaaaaaaaa\n",
            "(2+3j)\n"
          ]
        }
      ]
    },
    {
      "cell_type": "code",
      "source": [
        "for i in range(101):\n",
        "  if((i%3)==0):\n",
        "    if((i%5)==0):\n",
        "      print(\"GodlyBadly\")\n",
        "    else:\n",
        "        print(\"Godly\")\n",
        "  elif((i%5)==0):\n",
        "      print(\"Badly\")\n",
        "  else:\n",
        "     print(i)"
      ],
      "metadata": {
        "colab": {
          "base_uri": "https://localhost:8080/"
        },
        "id": "Jv6x1xmx2OdW",
        "outputId": "b4cb06e2-6fda-4de5-bfa5-11abdc3a42d0"
      },
      "execution_count": null,
      "outputs": [
        {
          "output_type": "stream",
          "name": "stdout",
          "text": [
            "GodlyBadly\n",
            "1\n",
            "2\n",
            "Godly\n",
            "4\n",
            "Badly\n",
            "Godly\n",
            "7\n",
            "8\n",
            "Godly\n",
            "Badly\n",
            "11\n",
            "Godly\n",
            "13\n",
            "14\n",
            "GodlyBadly\n",
            "16\n",
            "17\n",
            "Godly\n",
            "19\n",
            "Badly\n",
            "Godly\n",
            "22\n",
            "23\n",
            "Godly\n",
            "Badly\n",
            "26\n",
            "Godly\n",
            "28\n",
            "29\n",
            "GodlyBadly\n",
            "31\n",
            "32\n",
            "Godly\n",
            "34\n",
            "Badly\n",
            "Godly\n",
            "37\n",
            "38\n",
            "Godly\n",
            "Badly\n",
            "41\n",
            "Godly\n",
            "43\n",
            "44\n",
            "GodlyBadly\n",
            "46\n",
            "47\n",
            "Godly\n",
            "49\n",
            "Badly\n",
            "Godly\n",
            "52\n",
            "53\n",
            "Godly\n",
            "Badly\n",
            "56\n",
            "Godly\n",
            "58\n",
            "59\n",
            "GodlyBadly\n",
            "61\n",
            "62\n",
            "Godly\n",
            "64\n",
            "Badly\n",
            "Godly\n",
            "67\n",
            "68\n",
            "Godly\n",
            "Badly\n",
            "71\n",
            "Godly\n",
            "73\n",
            "74\n",
            "GodlyBadly\n",
            "76\n",
            "77\n",
            "Godly\n",
            "79\n",
            "Badly\n",
            "Godly\n",
            "82\n",
            "83\n",
            "Godly\n",
            "Badly\n",
            "86\n",
            "Godly\n",
            "88\n",
            "89\n",
            "GodlyBadly\n",
            "91\n",
            "92\n",
            "Godly\n",
            "94\n",
            "Badly\n",
            "Godly\n",
            "97\n",
            "98\n",
            "Godly\n",
            "Badly\n"
          ]
        }
      ]
    },
    {
      "cell_type": "code",
      "source": [
        "n=float(input(\"Enter amount in hand \"))\n",
        "c=float(input(\"Enter price of chocolate \"))\n",
        "m=float(input(\"Enter number of wrappers for free chocolate \"))\n",
        "#Number of chocolates bought\n",
        "p=n/c\n",
        "#Number of free chocolates\n",
        "f=p/m\n",
        "print(\"Number of chocolates \",int(p+f))"
      ],
      "metadata": {
        "colab": {
          "base_uri": "https://localhost:8080/"
        },
        "id": "bfoHw0JDJ51u",
        "outputId": "92a49e3a-39d2-49db-9de2-5799571ad4d2"
      },
      "execution_count": null,
      "outputs": [
        {
          "output_type": "stream",
          "name": "stdout",
          "text": [
            "Enter amount in hand 100\n",
            "Enter price of chocolate 20\n",
            "Enter number of wrappers for free chocolate 5\n",
            "Number of chocolates  6\n"
          ]
        }
      ]
    },
    {
      "cell_type": "code",
      "source": [
        "print(\"Enter number of steps\")\n",
        "n=int(input())\n",
        "for i in range(0,n):\n",
        "  for j in range(0,i+1):\n",
        "   print(\"*\",end='')\n",
        "  print()"
      ],
      "metadata": {
        "colab": {
          "base_uri": "https://localhost:8080/"
        },
        "id": "fnSIZjRojSyz",
        "outputId": "5c474147-8b3c-45be-8eeb-4bbe26073868"
      },
      "execution_count": null,
      "outputs": [
        {
          "output_type": "stream",
          "name": "stdout",
          "text": [
            "Enter number of steps\n",
            "10\n",
            "*\n",
            "**\n",
            "***\n",
            "****\n",
            "*****\n",
            "******\n",
            "*******\n",
            "********\n",
            "*********\n",
            "**********\n"
          ]
        }
      ]
    },
    {
      "cell_type": "code",
      "source": [
        "num=int(input(\"Enter a number\"))\n",
        "factorial =1\n",
        "if num<0:\n",
        "  print(\"Factorial doesn't exist for negative numbers\")\n",
        "elif num==0:\n",
        "    print(\"The factorial of 0 is 1\")\n",
        "else:\n",
        "    for i in range(1,num+1):\n",
        "        factorial=factorial*i\n",
        "print(\"The factorial of\",num,\"is\",factorial)"
      ],
      "metadata": {
        "colab": {
          "base_uri": "https://localhost:8080/"
        },
        "id": "f_G2IwmtSnnC",
        "outputId": "08d43cfe-24db-4c06-c116-0aa9bee8fbce"
      },
      "execution_count": null,
      "outputs": [
        {
          "output_type": "stream",
          "name": "stdout",
          "text": [
            "Enter a number2\n",
            "The factorial of 2 is 2\n"
          ]
        }
      ]
    },
    {
      "cell_type": "code",
      "source": [
        "for i in range(1000,2000):\n",
        "    if i%7==0 and i%5!=0:\n",
        "      print(i)"
      ],
      "metadata": {
        "colab": {
          "base_uri": "https://localhost:8080/"
        },
        "id": "G2K87LPlULbv",
        "outputId": "87f71a7b-c7a5-43d4-d72b-06c41595cf48"
      },
      "execution_count": null,
      "outputs": [
        {
          "output_type": "stream",
          "name": "stdout",
          "text": [
            "1001\n",
            "1008\n",
            "1022\n",
            "1029\n",
            "1036\n",
            "1043\n",
            "1057\n",
            "1064\n",
            "1071\n",
            "1078\n",
            "1092\n",
            "1099\n",
            "1106\n",
            "1113\n",
            "1127\n",
            "1134\n",
            "1141\n",
            "1148\n",
            "1162\n",
            "1169\n",
            "1176\n",
            "1183\n",
            "1197\n",
            "1204\n",
            "1211\n",
            "1218\n",
            "1232\n",
            "1239\n",
            "1246\n",
            "1253\n",
            "1267\n",
            "1274\n",
            "1281\n",
            "1288\n",
            "1302\n",
            "1309\n",
            "1316\n",
            "1323\n",
            "1337\n",
            "1344\n",
            "1351\n",
            "1358\n",
            "1372\n",
            "1379\n",
            "1386\n",
            "1393\n",
            "1407\n",
            "1414\n",
            "1421\n",
            "1428\n",
            "1442\n",
            "1449\n",
            "1456\n",
            "1463\n",
            "1477\n",
            "1484\n",
            "1491\n",
            "1498\n",
            "1512\n",
            "1519\n",
            "1526\n",
            "1533\n",
            "1547\n",
            "1554\n",
            "1561\n",
            "1568\n",
            "1582\n",
            "1589\n",
            "1596\n",
            "1603\n",
            "1617\n",
            "1624\n",
            "1631\n",
            "1638\n",
            "1652\n",
            "1659\n",
            "1666\n",
            "1673\n",
            "1687\n",
            "1694\n",
            "1701\n",
            "1708\n",
            "1722\n",
            "1729\n",
            "1736\n",
            "1743\n",
            "1757\n",
            "1764\n",
            "1771\n",
            "1778\n",
            "1792\n",
            "1799\n",
            "1806\n",
            "1813\n",
            "1827\n",
            "1834\n",
            "1841\n",
            "1848\n",
            "1862\n",
            "1869\n",
            "1876\n",
            "1883\n",
            "1897\n",
            "1904\n",
            "1911\n",
            "1918\n",
            "1932\n",
            "1939\n",
            "1946\n",
            "1953\n",
            "1967\n",
            "1974\n",
            "1981\n",
            "1988\n"
          ]
        }
      ]
    },
    {
      "cell_type": "code",
      "source": [
        "n=int(input(\"Enter the value of n:\"))\n",
        "x=[]\n",
        "for i in range (1,10):\n",
        "  if(i%3==0):\n",
        "    x.append(i)\n",
        "print(\"Thse sre the multiples of 3:\",x)"
      ],
      "metadata": {
        "colab": {
          "base_uri": "https://localhost:8080/"
        },
        "id": "rwdnjusFU-BU",
        "outputId": "1212dbfc-2229-4029-c488-fb404c1d75ee"
      },
      "execution_count": null,
      "outputs": [
        {
          "output_type": "stream",
          "name": "stdout",
          "text": [
            "Enter the value of n:9\n",
            "Thse sre the multiples of 3: [3, 6, 9]\n"
          ]
        }
      ]
    },
    {
      "cell_type": "code",
      "source": [
        "num=int(input(\"Enter a number\"))\n",
        "sum=0\n",
        "while num>0:\n",
        "  sum+=num\n",
        "  num-=1\n",
        "print(\"The sum is\",sum)"
      ],
      "metadata": {
        "colab": {
          "base_uri": "https://localhost:8080/"
        },
        "id": "J2UGrjwuV_YT",
        "outputId": "4d8ff27d-7b22-4a0a-b415-bbf644bc6982"
      },
      "execution_count": null,
      "outputs": [
        {
          "output_type": "stream",
          "name": "stdout",
          "text": [
            "Enter a number5\n",
            "The sum is 15\n"
          ]
        }
      ]
    },
    {
      "cell_type": "code",
      "source": [
        "numbers=(1,2,3,4,5,6,7,8,9)#Declaring the Tuple\n",
        "count_odd=0\n",
        "count_even=0\n",
        "for x in numbers:\n",
        "    if not x%2:\n",
        "        count_even+=1\n",
        "else:\n",
        "    count_odd+=1\n",
        "print(\"Numbers of even numbers :\",count_even)\n",
        "print(\"Numbers of odd numbers :\",count_odd)"
      ],
      "metadata": {
        "colab": {
          "base_uri": "https://localhost:8080/"
        },
        "id": "OzruhTk56sPm",
        "outputId": "8cf48fb0-215f-4a5f-9ed9-09340c2126c4"
      },
      "execution_count": null,
      "outputs": [
        {
          "output_type": "stream",
          "name": "stdout",
          "text": [
            "Numbers of even numbers : 4\n",
            "Numbers of odd numbers : 1\n"
          ]
        }
      ]
    },
    {
      "cell_type": "code",
      "source": [
        "num=2\n",
        "flag=0\n",
        "for i in range(2,num):\n",
        "  if num%i==0:\n",
        "    flag=1\n",
        "    break\n",
        "if flag==1:\n",
        "      print(\"Not Prime\")\n",
        "else:\n",
        "        print(\"Prime\")"
      ],
      "metadata": {
        "colab": {
          "base_uri": "https://localhost:8080/"
        },
        "id": "naXOIO6jMhac",
        "outputId": "ddd0ab93-3c31-423d-d2d8-998a340606fd"
      },
      "execution_count": null,
      "outputs": [
        {
          "output_type": "stream",
          "name": "stdout",
          "text": [
            "Prime\n"
          ]
        }
      ]
    },
    {
      "cell_type": "code",
      "source": [
        "for i in range(1,11):\n",
        "  print(i)"
      ],
      "metadata": {
        "colab": {
          "base_uri": "https://localhost:8080/"
        },
        "id": "6279hyQSTydJ",
        "outputId": "9d2ba534-ff97-4061-c8ba-b33f98ed3510"
      },
      "execution_count": null,
      "outputs": [
        {
          "output_type": "stream",
          "name": "stdout",
          "text": [
            "1\n",
            "2\n",
            "3\n",
            "4\n",
            "5\n",
            "6\n",
            "7\n",
            "8\n",
            "9\n",
            "10\n"
          ]
        }
      ]
    },
    {
      "cell_type": "code",
      "source": [
        "for i in range(0,6):\n",
        "    print(i)"
      ],
      "metadata": {
        "colab": {
          "base_uri": "https://localhost:8080/"
        },
        "id": "7J6B6Llf-RN5",
        "outputId": "149757d7-6909-46b4-9c61-374243b184b4"
      },
      "execution_count": null,
      "outputs": [
        {
          "output_type": "stream",
          "name": "stdout",
          "text": [
            "0\n",
            "1\n",
            "2\n",
            "3\n",
            "4\n",
            "5\n"
          ]
        }
      ]
    },
    {
      "cell_type": "code",
      "source": [
        "x,y=0,1\n",
        "while y<10:\n",
        "  print(y)\n",
        "  x,y=y,x+y"
      ],
      "metadata": {
        "colab": {
          "base_uri": "https://localhost:8080/"
        },
        "id": "WOR9VFiBAwau",
        "outputId": "c0731c2c-4e66-449e-ad10-fed319d4d4b7"
      },
      "execution_count": null,
      "outputs": [
        {
          "output_type": "stream",
          "name": "stdout",
          "text": [
            "1\n",
            "1\n",
            "2\n",
            "3\n",
            "5\n",
            "8\n"
          ]
        }
      ]
    },
    {
      "cell_type": "code",
      "source": [
        "#sequential control statement\n",
        "a=20\n",
        "b=10\n",
        "c=a-b\n",
        "print(\"Subtraction is\":,c)"
      ],
      "metadata": {
        "colab": {
          "base_uri": "https://localhost:8080/",
          "height": 131
        },
        "id": "necpH2Prz5zH",
        "outputId": "d6578c80-51d6-46e1-9040-9eaf4edb0068"
      },
      "execution_count": null,
      "outputs": [
        {
          "output_type": "error",
          "ename": "SyntaxError",
          "evalue": "ignored",
          "traceback": [
            "\u001b[0;36m  File \u001b[0;32m\"<ipython-input-5-a770de4cbb50>\"\u001b[0;36m, line \u001b[0;32m5\u001b[0m\n\u001b[0;31m    print(\"Subtraction is\":,c)\u001b[0m\n\u001b[0m                          ^\u001b[0m\n\u001b[0;31mSyntaxError\u001b[0m\u001b[0;31m:\u001b[0m invalid syntax\n"
          ]
        }
      ]
    },
    {
      "cell_type": "code",
      "source": [
        "#sequential statement (divsion)\n",
        "a=20\n",
        "b=4\n",
        "c=a/b\n",
        "d=a+b\n",
        "e=a-b\n",
        "f=a%b\n",
        "m=a-b\n",
        "print(\"Division of a and b is :\",c)\n",
        "print(\"Addition of a and b is:\",d)\n",
        "print(\"Product of a and b is :\",e)\n",
        "print(\"Modulus of a and b is :\",f)\n",
        "print(\"Subtraction of a and b is :\",m)"
      ],
      "metadata": {
        "colab": {
          "base_uri": "https://localhost:8080/"
        },
        "id": "TjIt95_j1ab9",
        "outputId": "3d5973d4-b067-4335-f1d9-5a0cde3e895e"
      },
      "execution_count": null,
      "outputs": [
        {
          "output_type": "stream",
          "name": "stdout",
          "text": [
            "Division of a and b is : 5.0\n",
            "Addition of a and b is: 24\n",
            "Product of a and b is : 16\n",
            "Modulus of a and b is : 0\n",
            "Subtraction of a and b is : 16\n"
          ]
        }
      ]
    },
    {
      "cell_type": "code",
      "source": [
        "#flow chart "
      ],
      "metadata": {
        "id": "IUmptKLX1u_h"
      },
      "execution_count": null,
      "outputs": []
    },
    {
      "cell_type": "code",
      "source": [
        "#condition statement \n",
        "#if statement\n",
        "n=10\n",
        "if (n%2==0):\n",
        "  print (\"n is a even number\")\n",
        "else: #(n!=0)\n",
        "  print (\"n is an odd number\")\n"
      ],
      "metadata": {
        "id": "zj5-CeskfCH_",
        "colab": {
          "base_uri": "https://localhost:8080/"
        },
        "outputId": "5ed873de-22bb-4fbe-e415-2d586ecc4c1f"
      },
      "execution_count": null,
      "outputs": [
        {
          "output_type": "stream",
          "name": "stdout",
          "text": [
            "n is a even number\n"
          ]
        }
      ]
    },
    {
      "cell_type": "code",
      "source": [
        "a=5\n",
        "b=4\n",
        "if(a<b):\n",
        "  print(\"a is greater than b\")\n",
        "else:\n",
        "  print(\"a is less than b\")\n",
        "if(a<6):\n",
        "  print(\"a is less than 6\")"
      ],
      "metadata": {
        "colab": {
          "base_uri": "https://localhost:8080/"
        },
        "id": "CDTKLJTT49Ej",
        "outputId": "bff997de-0499-4342-92a8-479772693ca7"
      },
      "execution_count": null,
      "outputs": [
        {
          "output_type": "stream",
          "name": "stdout",
          "text": [
            "a is less than b\n",
            "a is less than 6\n"
          ]
        }
      ]
    },
    {
      "cell_type": "code",
      "source": [
        "#nested if\n",
        "a=50\n",
        "b=40\n",
        "c=20\n",
        "if (a>b):\n",
        "  if(a>c):\n",
        "     print(\"a is bigger\")\n",
        "  else :\n",
        "    print(\"c isbigger \")\n",
        "elif(b>c):\n",
        "  print(\"b is bigger \")\n",
        "else:\n",
        "  print(\"c is biggger\")\n"
      ],
      "metadata": {
        "colab": {
          "base_uri": "https://localhost:8080/"
        },
        "id": "ZLsWRZd87D0q",
        "outputId": "d8cfafe0-848b-493c-b73b-7132618fab6f"
      },
      "execution_count": null,
      "outputs": [
        {
          "output_type": "stream",
          "name": "stdout",
          "text": [
            "a is bigger\n"
          ]
        }
      ]
    },
    {
      "cell_type": "code",
      "source": [
        "#AVERAGE MARKS OF A STUDENT\n",
        "a=float(input(\"Enter your Marks in subject 1 \"))\n",
        "b=float(input(\"Enter your marks in subject 2 \"))\n",
        "c=float(input(\"Enter your marks in subject 3 \"))\n",
        "#Average marks=(sum of the marks in all three subjects)/Total no. of subjects\n",
        "p=(a+b+c)/3\n",
        "print(p)\n",
        "if(p>=65):  #if else condition \n",
        "    print(\"pass\") \n",
        "\n",
        "else:\n",
        "    print(\"fail\")\n"
      ],
      "metadata": {
        "colab": {
          "base_uri": "https://localhost:8080/"
        },
        "id": "8mSsMnVZfDXS",
        "outputId": "c2fe9735-9a82-4589-e573-83dcad857bfd"
      },
      "execution_count": null,
      "outputs": [
        {
          "output_type": "stream",
          "name": "stdout",
          "text": [
            "Enter your Marks in subject 1 70\n",
            "Enter your marks in subject 2 80\n",
            "Enter your marks in subject 3 90\n",
            "80.0\n",
            "pass\n"
          ]
        }
      ]
    },
    {
      "cell_type": "code",
      "source": [
        "#Three sides of a a triangle is a,b and c\n",
        "a=float(input(\"Enter your first side\"))\n",
        "b=float(input(\"Enter your second Side\"))\n",
        "c=float(input(\"Enter your third side\"))\n",
        "#calculate the semi-perimeter of the triangle\n",
        "s=(a+b+c)/2\n",
        "print(s)\n"
      ],
      "metadata": {
        "colab": {
          "base_uri": "https://localhost:8080/"
        },
        "id": "jsuNkF2_2q4K",
        "outputId": "3d1d94c7-a6c8-4da5-e3ec-9c829adb130e"
      },
      "execution_count": null,
      "outputs": [
        {
          "output_type": "stream",
          "name": "stdout",
          "text": [
            "Enter your first side7.2\n",
            "Enter your second Side4.8\n",
            "Enter your third side5.2\n",
            "8.6\n"
          ]
        }
      ]
    },
    {
      "cell_type": "code",
      "execution_count": null,
      "metadata": {
        "id": "bBeVWtw7aM-Z"
      },
      "outputs": [],
      "source": []
    },
    {
      "cell_type": "code",
      "execution_count": null,
      "metadata": {
        "colab": {
          "background_save": true
        },
        "id": "PInPp2gRaO0m",
        "outputId": "c9fe4568-004c-4f72-ae7e-2b7b3b7a7fb6"
      },
      "outputs": [
        {
          "ename": "SyntaxError",
          "evalue": "ignored",
          "output_type": "error",
          "traceback": [
            "\u001b[0;36m  File \u001b[0;32m\"<ipython-input-1-7f2ce648e6c1>\"\u001b[0;36m, line \u001b[0;32m1\u001b[0m\n\u001b[0;31m    int q a=b*c\u001b[0m\n\u001b[0m        ^\u001b[0m\n\u001b[0;31mSyntaxError\u001b[0m\u001b[0;31m:\u001b[0m invalid syntax\n"
          ]
        }
      ],
      "source": [
        "int q a=b*c\n",
        "b=(input)\n",
        "c=int 3000\n",
        "s=(input)\n",
        "p=int(q-s)\n",
        "print(\"p\")"
      ]
    },
    {
      "cell_type": "code",
      "source": [],
      "metadata": {
        "colab": {
          "base_uri": "https://localhost:8080/",
          "height": 218
        },
        "id": "z5qHpRTZnotA",
        "outputId": "e345a5cf-175e-497b-8a7c-a81af87ea2ea"
      },
      "execution_count": null,
      "outputs": [
        {
          "output_type": "error",
          "ename": "NameError",
          "evalue": "ignored",
          "traceback": [
            "\u001b[0;31m---------------------------------------------------------------------------\u001b[0m",
            "\u001b[0;31mNameError\u001b[0m                                 Traceback (most recent call last)",
            "\u001b[0;32m<ipython-input-8-e0c331f4dbee>\u001b[0m in \u001b[0;36m<module>\u001b[0;34m\u001b[0m\n\u001b[0;32m----> 1\u001b[0;31m \u001b[0minput\u001b[0m\u001b[0;34m(\u001b[0m\u001b[0mradius\u001b[0m\u001b[0;34m)\u001b[0m\u001b[0;34m\u001b[0m\u001b[0;34m\u001b[0m\u001b[0m\n\u001b[0m\u001b[1;32m      2\u001b[0m \u001b[0mpi\u001b[0m\u001b[0;34m=\u001b[0m\u001b[0;36m3.14\u001b[0m\u001b[0;34m\u001b[0m\u001b[0;34m\u001b[0m\u001b[0m\n\u001b[1;32m      3\u001b[0m \u001b[0marea\u001b[0m\u001b[0;34m=\u001b[0m\u001b[0mpi\u001b[0m\u001b[0;34m*\u001b[0m\u001b[0;34m(\u001b[0m\u001b[0mradius\u001b[0m\u001b[0;34m*\u001b[0m\u001b[0mradius\u001b[0m\u001b[0;34m)\u001b[0m\u001b[0;34m\u001b[0m\u001b[0;34m\u001b[0m\u001b[0m\n\u001b[1;32m      4\u001b[0m \u001b[0mprint\u001b[0m\u001b[0;34m(\u001b[0m\u001b[0;34m\"area\"\u001b[0m\u001b[0;34m)\u001b[0m\u001b[0;34m\u001b[0m\u001b[0;34m\u001b[0m\u001b[0m\n",
            "\u001b[0;31mNameError\u001b[0m: name 'radius' is not defined"
          ]
        }
      ]
    },
    {
      "cell_type": "markdown",
      "source": [
        "pi=3.14\n",
        "radius=float(input(\"Type the radius of circle\"))\n",
        "area=pi*radius*radius\n",
        "print(\"The area of circle is:\",area)"
      ],
      "metadata": {
        "id": "wBzPDtvxpJnP"
      }
    },
    {
      "cell_type": "code",
      "source": [
        "pi=3.14\n",
        "radius=float(input(\"Type the radius\"))\n",
        "area=pi*radius*radius\n",
        "print(\"Area of circle:\",area)"
      ],
      "metadata": {
        "colab": {
          "base_uri": "https://localhost:8080/"
        },
        "id": "431pkVmtp79u",
        "outputId": "c2315e7c-f825-4516-9a97-ed0a58920926"
      },
      "execution_count": null,
      "outputs": [
        {
          "output_type": "stream",
          "name": "stdout",
          "text": [
            "Type the radius9\n",
            "Area of circle: 254.34\n"
          ]
        }
      ]
    },
    {
      "cell_type": "code",
      "execution_count": null,
      "metadata": {
        "id": "nLYrCPl5H-w3"
      },
      "outputs": [],
      "source": []
    },
    {
      "cell_type": "code",
      "execution_count": null,
      "metadata": {
        "colab": {
          "base_uri": "https://localhost:8080/",
          "height": 131
        },
        "id": "d10GyJCqkKM9",
        "outputId": "11343cd4-c1e6-418f-cd0c-67c94e82ed49"
      },
      "outputs": [
        {
          "ename": "SyntaxError",
          "evalue": "ignored",
          "output_type": "error",
          "traceback": [
            "\u001b[0;36m  File \u001b[0;32m\"<ipython-input-18-a11816b00ca0>\"\u001b[0;36m, line \u001b[0;32m2\u001b[0m\n\u001b[0;31m    int main()\u001b[0m\n\u001b[0m           ^\u001b[0m\n\u001b[0;31mSyntaxError\u001b[0m\u001b[0;31m:\u001b[0m invalid syntax\n"
          ]
        }
      ],
      "source": [
        "\n",
        "#include<stdio.h>\n",
        "int main()\n",
        "{\n",
        "    float cel,fer;\n",
        "    printf(\"Enter temp.in celsius\");\n",
        "    scanf(%f,&cel);\n",
        "    fer=(9*cel)/5+32;\n",
        "    printf(\"converted value is %f\",fer);\n",
        "    return 0;\n",
        "\n",
        "\n",
        "\n",
        "}"
      ]
    },
    {
      "cell_type": "code",
      "execution_count": null,
      "metadata": {
        "colab": {
          "base_uri": "https://localhost:8080/",
          "height": 218
        },
        "id": "6dcX6RpJIAGB",
        "outputId": "bcf475bf-efba-4ca5-c3e1-afd0cf8c0414"
      },
      "outputs": [
        {
          "output_type": "error",
          "ename": "TypeError",
          "evalue": "ignored",
          "traceback": [
            "\u001b[0;31m---------------------------------------------------------------------------\u001b[0m",
            "\u001b[0;31mTypeError\u001b[0m                                 Traceback (most recent call last)",
            "\u001b[0;32m<ipython-input-33-966f9e975230>\u001b[0m in \u001b[0;36m<module>\u001b[0;34m\u001b[0m\n\u001b[0;32m----> 1\u001b[0;31m \u001b[0mradius\u001b[0m \u001b[0;34m=\u001b[0m\u001b[0mfloat\u001b[0m\u001b[0;34m(\u001b[0m\u001b[0minput\u001b[0m\u001b[0;34m)\u001b[0m\u001b[0;34m\u001b[0m\u001b[0;34m\u001b[0m\u001b[0m\n\u001b[0m\u001b[1;32m      2\u001b[0m \u001b[0mpi\u001b[0m\u001b[0;34m=\u001b[0m\u001b[0;36m3.14\u001b[0m\u001b[0;34m\u001b[0m\u001b[0;34m\u001b[0m\u001b[0m\n\u001b[1;32m      3\u001b[0m \u001b[0mareaofcircle\u001b[0m \u001b[0;34m=\u001b[0m\u001b[0mpi\u001b[0m\u001b[0;34m*\u001b[0m\u001b[0mradius\u001b[0m\u001b[0;34m*\u001b[0m\u001b[0;34m(\u001b[0m\u001b[0minput\u001b[0m\u001b[0;34m)\u001b[0m\u001b[0;34m\u001b[0m\u001b[0;34m\u001b[0m\u001b[0m\n\u001b[1;32m      4\u001b[0m \u001b[0mprint\u001b[0m\u001b[0;34m(\u001b[0m\u001b[0mareaofcircle\u001b[0m\u001b[0;34m)\u001b[0m\u001b[0;34m\u001b[0m\u001b[0;34m\u001b[0m\u001b[0m\n",
            "\u001b[0;31mTypeError\u001b[0m: float() argument must be a string or a number, not 'method'"
          ]
        }
      ],
      "source": [
        "radius =float(input)\n",
        "pi=3.14\n",
        "areaofcircle =pi*radius*(input)\n",
        "print(areaofcircle)"
      ]
    },
    {
      "cell_type": "code",
      "execution_count": null,
      "metadata": {
        "id": "okEH8rp_L6lx"
      },
      "outputs": [],
      "source": []
    },
    {
      "cell_type": "code",
      "execution_count": null,
      "metadata": {
        "colab": {
          "base_uri": "https://localhost:8080/",
          "height": 131
        },
        "id": "caqdICgDKavs",
        "outputId": "9e8b9656-8a58-4c1f-b0ce-39d3cef05e07"
      },
      "outputs": [
        {
          "ename": "SyntaxError",
          "evalue": "ignored",
          "output_type": "error",
          "traceback": [
            "\u001b[0;36m  File \u001b[0;32m\"<ipython-input-4-f054429a3e83>\"\u001b[0;36m, line \u001b[0;32m4\u001b[0m\n\u001b[0;31m    not=int(intput)\u001b[0m\n\u001b[0m       ^\u001b[0m\n\u001b[0;31mSyntaxError\u001b[0m\u001b[0;31m:\u001b[0m invalid syntax\n"
          ]
        }
      ],
      "source": [
        "noc=int(input)\n",
        "cooc=int(input)\n",
        "cooch=int(intput)\n",
        "not=int(intput)\n",
        "nowh=int(input)\n",
        "coc=noc=cooc\n",
        "print(\"coc,\"noc\")\n"
      ]
    },
    {
      "cell_type": "markdown",
      "metadata": {
        "id": "Y2jvNUKghAhT"
      },
      "source": []
    },
    {
      "cell_type": "code",
      "execution_count": null,
      "metadata": {
        "colab": {
          "base_uri": "https://localhost:8080/",
          "height": 131
        },
        "id": "jdUubhS-s4DH",
        "outputId": "ee46dfbd-7497-4955-ebdb-38a03904d13c"
      },
      "outputs": [
        {
          "ename": "SyntaxError",
          "evalue": "ignored",
          "output_type": "error",
          "traceback": [
            "\u001b[0;36m  File \u001b[0;32m\"<ipython-input-1-fbe25f1ce66f>\"\u001b[0;36m, line \u001b[0;32m2\u001b[0m\n\u001b[0;31m    int main(){\u001b[0m\n\u001b[0m           ^\u001b[0m\n\u001b[0;31mSyntaxError\u001b[0m\u001b[0;31m:\u001b[0m invalid syntax\n"
          ]
        }
      ],
      "source": [
        "#include<stdio.h>\n",
        "int main(){\n",
        "    int number 1 ,number 2;\n",
        "    printf(\"Enter two numbers\");\n",
        "    scanf(\"%d,&number1\");\n",
        "    scanf(\"%d,&number2\");\n",
        "    if(number1>number2){\n",
        "        ptint(\"%d is the largesst one\",number1);\n",
        "    }\n",
        "    else{\n",
        "        printf(\"%d is the larger one\",number2);\n",
        "    }\n",
        "}"
      ]
    },
    {
      "cell_type": "code",
      "execution_count": null,
      "metadata": {
        "colab": {
          "base_uri": "https://localhost:8080/"
        },
        "id": "qtq52BFJ5fc6",
        "outputId": "0165751f-1da5-4e54-d31d-05c777297990"
      },
      "outputs": [
        {
          "name": "stdout",
          "output_type": "stream",
          "text": [
            "Priyanshu Sharma\n"
          ]
        }
      ],
      "source": [
        "print(\"Priyanshu Sharma\")"
      ]
    },
    {
      "cell_type": "code",
      "execution_count": null,
      "metadata": {
        "colab": {
          "base_uri": "https://localhost:8080/"
        },
        "id": "SSf2N58n6aD3",
        "outputId": "17d14bb7-dcfc-4070-d088-308fdb8c8208"
      },
      "outputs": [
        {
          "name": "stdout",
          "output_type": "stream",
          "text": [
            "This code was written by Priyanshu Sharma\n"
          ]
        }
      ],
      "source": [
        "print(\"This code was written by Priyanshu Sharma\")"
      ]
    },
    {
      "cell_type": "code",
      "execution_count": null,
      "metadata": {
        "colab": {
          "base_uri": "https://localhost:8080/"
        },
        "id": "lW6MWVis6sLr",
        "outputId": "7d59aa44-7025-4664-9755-fad1568c759a"
      },
      "outputs": [
        {
          "name": "stdout",
          "output_type": "stream",
          "text": [
            "Priyanshu Sharma\n",
            "22BHI10063\n",
            "Computer Science and Engineering with specialisation in Health Informatics\n",
            "VIT Bhopal\n"
          ]
        }
      ],
      "source": [
        "print(\"Priyanshu Sharma\")\n",
        "print(\"22BHI10063\")\n",
        "print(\"Computer Science and Engineering with specialisation in Health Informatics\")\n",
        "print(\"VIT Bhopal\")"
      ]
    },
    {
      "cell_type": "code",
      "execution_count": null,
      "metadata": {
        "colab": {
          "base_uri": "https://localhost:8080/"
        },
        "id": "AQG-Ug7b7K3C",
        "outputId": "8c63cc95-1c77-4184-ebca-946261791153"
      },
      "outputs": [
        {
          "name": "stdout",
          "output_type": "stream",
          "text": [
            "Hello\n"
          ]
        }
      ],
      "source": [
        "print('Hello')"
      ]
    },
    {
      "cell_type": "code",
      "execution_count": null,
      "metadata": {
        "colab": {
          "base_uri": "https://localhost:8080/"
        },
        "id": "9j79MQ_X7goT",
        "outputId": "9b5468b2-09d4-41e0-e786-8d80e7cb83a5"
      },
      "outputs": [
        {
          "name": "stdout",
          "output_type": "stream",
          "text": [
            "10\n"
          ]
        }
      ],
      "source": [
        "a=5\n",
        "b=4\n",
        "c=1\n",
        "sum=a+b+c\n",
        "print(sum)"
      ]
    },
    {
      "cell_type": "code",
      "execution_count": null,
      "metadata": {
        "colab": {
          "base_uri": "https://localhost:8080/"
        },
        "id": "APbzFK4G7t8P",
        "outputId": "e1ce2f70-35e8-4e9f-b6f0-d537b15810ee"
      },
      "outputs": [
        {
          "name": "stdout",
          "output_type": "stream",
          "text": [
            "30\n"
          ]
        }
      ],
      "source": [
        "a=10\n",
        "b=20\n",
        "c=a+b\n",
        "print(c)\n"
      ]
    }
  ],
  "metadata": {
    "colab": {
      "provenance": [],
      "authorship_tag": "ABX9TyOFxK30Ajeq1wTe3W15uuup",
      "include_colab_link": true
    },
    "kernelspec": {
      "display_name": "Python 3",
      "name": "python3"
    },
    "language_info": {
      "name": "python"
    }
  },
  "nbformat": 4,
  "nbformat_minor": 0
}